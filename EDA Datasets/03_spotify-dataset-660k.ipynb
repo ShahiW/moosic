{
 "cells": [
  {
   "cell_type": "code",
   "execution_count": null,
   "metadata": {},
   "outputs": [],
   "source": [
    "import pandas as pd\n",
    "import numpy as np\n",
    "import seaborn as sns"
   ]
  },
  {
   "cell_type": "code",
   "execution_count": null,
   "metadata": {},
   "outputs": [],
   "source": [
    "df_artists = pd.read_csv('../.data/NB_03_artists.csv', low_memory=False)\n",
    "df_artists.head().T"
   ]
  },
  {
   "cell_type": "code",
   "execution_count": null,
   "metadata": {},
   "outputs": [],
   "source": [
    "df_tracks = pd.read_csv('../.data/NB_03_tracks.csv', low_memory=False)\n",
    "df_tracks.head().T"
   ]
  },
  {
   "cell_type": "markdown",
   "metadata": {},
   "source": [
    "## Data Overview Artists\n",
    "\n",
    "| column | additional information |\n",
    "|--------|------------------------|\n",
    "| id | id of artist |\n",
    "| followers | number of followers | \n",
    "| genres | genres associated with artist |\n",
    "| name | name of artist |\n",
    "| popularity | popularity of artist in range 0 to 100 |"
   ]
  },
  {
   "cell_type": "markdown",
   "metadata": {},
   "source": [
    "## Data Overview Tracks\n",
    "\n",
    "| column | additional information |\n",
    "|--------|------------------------|\n",
    "| id | id of track |\n",
    "| name | name of track | \n",
    "| popularity | popularity of track in range 0 to 100 |\n",
    "| duration_ms | duration of songs in ms |\n",
    "| explicit | whether it contains explicit content or not |\n",
    "| artists | artists who created the track | \n",
    "| id_artists | id of artists who created the track |\n",
    "| release_date | date of release |\n",
    "| danceability | how danceable a song is in range 0 to 1 |\n",
    "| energy | how energized a song is in range 0 to 1 |\n",
    "| key |  |\n",
    "| loudness |  |\n",
    "| mode |  |\n",
    "| speechiness |  |\n",
    "| acousticness |  |\n",
    "| instrumentalness |  |\n",
    "| liveness |  |\n",
    "| valence |  |\n",
    "| tempo |  | \n",
    "| time_signature |  | "
   ]
  },
  {
   "cell_type": "code",
   "execution_count": null,
   "metadata": {},
   "outputs": [],
   "source": [
    "df_artists.info()"
   ]
  },
  {
   "cell_type": "markdown",
   "metadata": {},
   "source": [
    "&rarr; Some missing values in columns _followers_ and _name_!"
   ]
  },
  {
   "cell_type": "code",
   "execution_count": null,
   "metadata": {},
   "outputs": [],
   "source": [
    "df_tracks.info()"
   ]
  },
  {
   "cell_type": "markdown",
   "metadata": {},
   "source": [
    "&rarr; Some missing values in column _name_!"
   ]
  }
 ],
 "metadata": {
  "kernelspec": {
   "display_name": ".venv",
   "language": "python",
   "name": "python3"
  },
  "language_info": {
   "codemirror_mode": {
    "name": "ipython",
    "version": 3
   },
   "file_extension": ".py",
   "mimetype": "text/x-python",
   "name": "python",
   "nbconvert_exporter": "python",
   "pygments_lexer": "ipython3",
   "version": "3.11.3"
  },
  "orig_nbformat": 4
 },
 "nbformat": 4,
 "nbformat_minor": 2
}
