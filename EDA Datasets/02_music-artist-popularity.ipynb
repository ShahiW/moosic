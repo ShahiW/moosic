{
 "cells": [
  {
   "cell_type": "code",
   "execution_count": null,
   "metadata": {},
   "outputs": [],
   "source": [
    "import pandas as pd\n",
    "import numpy as np\n",
    "import seaborn as sns"
   ]
  },
  {
   "cell_type": "code",
   "execution_count": null,
   "metadata": {},
   "outputs": [],
   "source": [
    "df = pd.read_csv('../.data/NB_02_artists.csv', low_memory=False)\n",
    "df.head().T"
   ]
  },
  {
   "cell_type": "markdown",
   "metadata": {},
   "source": [
    "## Data Overview\n",
    "\n",
    "| column | additional information |\n",
    "|--------|------------------------|\n",
    "| mbid | musicbrainz id |\n",
    "| artist_mb | artist name according to musicbrainz | \n",
    "| artist_lastfm | artist name according to last.fm |\n",
    "| country_mb | artist country according to musicbrainz |\n",
    "| country_lastfm | artist country, based on lastfm tags |\n",
    "| tags_mb | artist tags on musicbrainz, separated by semicolon (;) | \n",
    "| tags_last_fm | artist tags on last.fm, separated by semicolon (;), sorted by frequency decreasing |\n",
    "| listeners_lastfm | number of listeners on last.fm |\n",
    "| scrobbles_lastfm | number of scrobbles on last.fm |\n",
    "| ambiguous_artist | TRUE if more than one artist shares the same last.fm page |"
   ]
  },
  {
   "cell_type": "code",
   "execution_count": null,
   "metadata": {},
   "outputs": [],
   "source": [
    "df.info()"
   ]
  },
  {
   "cell_type": "code",
   "execution_count": null,
   "metadata": {},
   "outputs": [],
   "source": [
    "df.describe()"
   ]
  },
  {
   "cell_type": "code",
   "execution_count": null,
   "metadata": {},
   "outputs": [],
   "source": [
    "df['artist_mb'].nunique()"
   ]
  },
  {
   "cell_type": "code",
   "execution_count": null,
   "metadata": {},
   "outputs": [],
   "source": [
    "df['artist_lastfm'].nunique()"
   ]
  },
  {
   "cell_type": "markdown",
   "metadata": {},
   "source": [
    "&rarr; We have different unique values for artists! Count of _musicbrainz_ is way higher than count of _lastfm_!"
   ]
  }
 ],
 "metadata": {
  "kernelspec": {
   "display_name": ".venv",
   "language": "python",
   "name": "python3"
  },
  "language_info": {
   "codemirror_mode": {
    "name": "ipython",
    "version": 3
   },
   "file_extension": ".py",
   "mimetype": "text/x-python",
   "name": "python",
   "nbconvert_exporter": "python",
   "pygments_lexer": "ipython3",
   "version": "3.11.3"
  },
  "orig_nbformat": 4
 },
 "nbformat": 4,
 "nbformat_minor": 2
}
