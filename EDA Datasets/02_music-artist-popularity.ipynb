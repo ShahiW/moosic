{
 "cells": [
  {
   "cell_type": "code",
   "execution_count": 3,
   "metadata": {},
   "outputs": [],
   "source": [
    "import pandas as pd\n",
    "import numpy as np\n",
    "import seaborn as sns"
   ]
  },
  {
   "cell_type": "code",
   "execution_count": 7,
   "metadata": {},
   "outputs": [
    {
     "data": {
      "text/html": [
       "<div>\n",
       "<style scoped>\n",
       "    .dataframe tbody tr th:only-of-type {\n",
       "        vertical-align: middle;\n",
       "    }\n",
       "\n",
       "    .dataframe tbody tr th {\n",
       "        vertical-align: top;\n",
       "    }\n",
       "\n",
       "    .dataframe thead th {\n",
       "        text-align: right;\n",
       "    }\n",
       "</style>\n",
       "<table border=\"1\" class=\"dataframe\">\n",
       "  <thead>\n",
       "    <tr style=\"text-align: right;\">\n",
       "      <th></th>\n",
       "      <th>0</th>\n",
       "      <th>1</th>\n",
       "      <th>2</th>\n",
       "      <th>3</th>\n",
       "      <th>4</th>\n",
       "    </tr>\n",
       "  </thead>\n",
       "  <tbody>\n",
       "    <tr>\n",
       "      <th>mbid</th>\n",
       "      <td>cc197bad-dc9c-440d-a5b5-d52ba2e14234</td>\n",
       "      <td>a74b1b7f-71a5-4011-9441-d0b5e4122711</td>\n",
       "      <td>8bfac288-ccc5-448d-9573-c33ea2aa5c30</td>\n",
       "      <td>73e5e69d-3554-40d8-8516-00cb38737a1c</td>\n",
       "      <td>b95ce3ff-3d05-4e87-9e01-c97b66af13d4</td>\n",
       "    </tr>\n",
       "    <tr>\n",
       "      <th>artist_mb</th>\n",
       "      <td>Coldplay</td>\n",
       "      <td>Radiohead</td>\n",
       "      <td>Red Hot Chili Peppers</td>\n",
       "      <td>Rihanna</td>\n",
       "      <td>Eminem</td>\n",
       "    </tr>\n",
       "    <tr>\n",
       "      <th>artist_lastfm</th>\n",
       "      <td>Coldplay</td>\n",
       "      <td>Radiohead</td>\n",
       "      <td>Red Hot Chili Peppers</td>\n",
       "      <td>Rihanna</td>\n",
       "      <td>Eminem</td>\n",
       "    </tr>\n",
       "    <tr>\n",
       "      <th>country_mb</th>\n",
       "      <td>United Kingdom</td>\n",
       "      <td>United Kingdom</td>\n",
       "      <td>United States</td>\n",
       "      <td>United States</td>\n",
       "      <td>United States</td>\n",
       "    </tr>\n",
       "    <tr>\n",
       "      <th>country_lastfm</th>\n",
       "      <td>United Kingdom</td>\n",
       "      <td>United Kingdom</td>\n",
       "      <td>United States</td>\n",
       "      <td>Barbados; United States</td>\n",
       "      <td>United States</td>\n",
       "    </tr>\n",
       "    <tr>\n",
       "      <th>tags_mb</th>\n",
       "      <td>rock; pop; alternative rock; british; uk; brit...</td>\n",
       "      <td>rock; electronic; alternative rock; british; g...</td>\n",
       "      <td>rock; alternative rock; 80s; 90s; rap; metal; ...</td>\n",
       "      <td>pop; dance; hip hop; reggae; contemporary r b;...</td>\n",
       "      <td>turkish; rap; american; hip-hop; hip hop; hiph...</td>\n",
       "    </tr>\n",
       "    <tr>\n",
       "      <th>tags_lastfm</th>\n",
       "      <td>rock; alternative; britpop; alternative rock; ...</td>\n",
       "      <td>alternative; alternative rock; rock; indie; el...</td>\n",
       "      <td>rock; alternative rock; alternative; Funk Rock...</td>\n",
       "      <td>pop; rnb; female vocalists; dance; Hip-Hop; Ri...</td>\n",
       "      <td>rap; Hip-Hop; Eminem; hip hop; pop; american; ...</td>\n",
       "    </tr>\n",
       "    <tr>\n",
       "      <th>listeners_lastfm</th>\n",
       "      <td>5381567.0</td>\n",
       "      <td>4732528.0</td>\n",
       "      <td>4620835.0</td>\n",
       "      <td>4558193.0</td>\n",
       "      <td>4517997.0</td>\n",
       "    </tr>\n",
       "    <tr>\n",
       "      <th>scrobbles_lastfm</th>\n",
       "      <td>360111850.0</td>\n",
       "      <td>499548797.0</td>\n",
       "      <td>293784041.0</td>\n",
       "      <td>199248986.0</td>\n",
       "      <td>199507511.0</td>\n",
       "    </tr>\n",
       "    <tr>\n",
       "      <th>ambiguous_artist</th>\n",
       "      <td>False</td>\n",
       "      <td>False</td>\n",
       "      <td>False</td>\n",
       "      <td>False</td>\n",
       "      <td>False</td>\n",
       "    </tr>\n",
       "  </tbody>\n",
       "</table>\n",
       "</div>"
      ],
      "text/plain": [
       "                                                                  0   \n",
       "mbid                           cc197bad-dc9c-440d-a5b5-d52ba2e14234  \\\n",
       "artist_mb                                                  Coldplay   \n",
       "artist_lastfm                                              Coldplay   \n",
       "country_mb                                           United Kingdom   \n",
       "country_lastfm                                       United Kingdom   \n",
       "tags_mb           rock; pop; alternative rock; british; uk; brit...   \n",
       "tags_lastfm       rock; alternative; britpop; alternative rock; ...   \n",
       "listeners_lastfm                                          5381567.0   \n",
       "scrobbles_lastfm                                        360111850.0   \n",
       "ambiguous_artist                                              False   \n",
       "\n",
       "                                                                  1   \n",
       "mbid                           a74b1b7f-71a5-4011-9441-d0b5e4122711  \\\n",
       "artist_mb                                                 Radiohead   \n",
       "artist_lastfm                                             Radiohead   \n",
       "country_mb                                           United Kingdom   \n",
       "country_lastfm                                       United Kingdom   \n",
       "tags_mb           rock; electronic; alternative rock; british; g...   \n",
       "tags_lastfm       alternative; alternative rock; rock; indie; el...   \n",
       "listeners_lastfm                                          4732528.0   \n",
       "scrobbles_lastfm                                        499548797.0   \n",
       "ambiguous_artist                                              False   \n",
       "\n",
       "                                                                  2   \n",
       "mbid                           8bfac288-ccc5-448d-9573-c33ea2aa5c30  \\\n",
       "artist_mb                                     Red Hot Chili Peppers   \n",
       "artist_lastfm                                 Red Hot Chili Peppers   \n",
       "country_mb                                            United States   \n",
       "country_lastfm                                        United States   \n",
       "tags_mb           rock; alternative rock; 80s; 90s; rap; metal; ...   \n",
       "tags_lastfm       rock; alternative rock; alternative; Funk Rock...   \n",
       "listeners_lastfm                                          4620835.0   \n",
       "scrobbles_lastfm                                        293784041.0   \n",
       "ambiguous_artist                                              False   \n",
       "\n",
       "                                                                  3   \n",
       "mbid                           73e5e69d-3554-40d8-8516-00cb38737a1c  \\\n",
       "artist_mb                                                   Rihanna   \n",
       "artist_lastfm                                               Rihanna   \n",
       "country_mb                                            United States   \n",
       "country_lastfm                              Barbados; United States   \n",
       "tags_mb           pop; dance; hip hop; reggae; contemporary r b;...   \n",
       "tags_lastfm       pop; rnb; female vocalists; dance; Hip-Hop; Ri...   \n",
       "listeners_lastfm                                          4558193.0   \n",
       "scrobbles_lastfm                                        199248986.0   \n",
       "ambiguous_artist                                              False   \n",
       "\n",
       "                                                                  4  \n",
       "mbid                           b95ce3ff-3d05-4e87-9e01-c97b66af13d4  \n",
       "artist_mb                                                    Eminem  \n",
       "artist_lastfm                                                Eminem  \n",
       "country_mb                                            United States  \n",
       "country_lastfm                                        United States  \n",
       "tags_mb           turkish; rap; american; hip-hop; hip hop; hiph...  \n",
       "tags_lastfm       rap; Hip-Hop; Eminem; hip hop; pop; american; ...  \n",
       "listeners_lastfm                                          4517997.0  \n",
       "scrobbles_lastfm                                        199507511.0  \n",
       "ambiguous_artist                                              False  "
      ]
     },
     "execution_count": 7,
     "metadata": {},
     "output_type": "execute_result"
    }
   ],
   "source": [
    "df = pd.read_csv('../.data/NB_02_artists.csv', low_memory=False)\n",
    "df.head().T"
   ]
  },
  {
   "cell_type": "markdown",
   "metadata": {},
   "source": [
    "## Data Overview\n",
    "\n",
    "| column | additional information |\n",
    "|--------|------------------------|\n",
    "| mbid | musicbrainz id |\n",
    "| artist_mb | artist name according to musicbrainz | \n",
    "| artist_lastfm | artist name according to last.fm |\n",
    "| country_mb | artist country according to musicbrainz |\n",
    "| country_lastfm | artist country, based on lastfm tags |\n",
    "| tags_mb | artist tags on musicbrainz, separated by semicolon (;) | \n",
    "| tags_last_fm | artist tags on last.fm, separated by semicolon (;), sorted by frequency decreasing |\n",
    "| listeners_lastfm | number of listeners on last.fm |\n",
    "| scrobbles_lastfm | number of scrobbles on last.fm |\n",
    "| ambiguous_artist | TRUE if more than one artist shares the same last.fm page |"
   ]
  },
  {
   "cell_type": "code",
   "execution_count": 6,
   "metadata": {},
   "outputs": [
    {
     "name": "stdout",
     "output_type": "stream",
     "text": [
      "<class 'pandas.core.frame.DataFrame'>\n",
      "Index: 10 entries, mbid to ambiguous_artist\n",
      "Columns: 1466083 entries, 0 to 1466082\n",
      "dtypes: object(1466083)\n",
      "memory usage: 111.9+ MB\n"
     ]
    }
   ],
   "source": [
    "df.info()"
   ]
  },
  {
   "cell_type": "code",
   "execution_count": 8,
   "metadata": {},
   "outputs": [
    {
     "data": {
      "text/html": [
       "<div>\n",
       "<style scoped>\n",
       "    .dataframe tbody tr th:only-of-type {\n",
       "        vertical-align: middle;\n",
       "    }\n",
       "\n",
       "    .dataframe tbody tr th {\n",
       "        vertical-align: top;\n",
       "    }\n",
       "\n",
       "    .dataframe thead th {\n",
       "        text-align: right;\n",
       "    }\n",
       "</style>\n",
       "<table border=\"1\" class=\"dataframe\">\n",
       "  <thead>\n",
       "    <tr style=\"text-align: right;\">\n",
       "      <th></th>\n",
       "      <th>listeners_lastfm</th>\n",
       "      <th>scrobbles_lastfm</th>\n",
       "    </tr>\n",
       "  </thead>\n",
       "  <tbody>\n",
       "    <tr>\n",
       "      <th>count</th>\n",
       "      <td>9.867600e+05</td>\n",
       "      <td>9.867600e+05</td>\n",
       "    </tr>\n",
       "    <tr>\n",
       "      <th>mean</th>\n",
       "      <td>6.310180e+03</td>\n",
       "      <td>1.219395e+05</td>\n",
       "    </tr>\n",
       "    <tr>\n",
       "      <th>std</th>\n",
       "      <td>5.948703e+04</td>\n",
       "      <td>2.314559e+06</td>\n",
       "    </tr>\n",
       "    <tr>\n",
       "      <th>min</th>\n",
       "      <td>0.000000e+00</td>\n",
       "      <td>0.000000e+00</td>\n",
       "    </tr>\n",
       "    <tr>\n",
       "      <th>25%</th>\n",
       "      <td>1.000000e+01</td>\n",
       "      <td>4.600000e+01</td>\n",
       "    </tr>\n",
       "    <tr>\n",
       "      <th>50%</th>\n",
       "      <td>1.000000e+02</td>\n",
       "      <td>5.900000e+02</td>\n",
       "    </tr>\n",
       "    <tr>\n",
       "      <th>75%</th>\n",
       "      <td>8.190000e+02</td>\n",
       "      <td>6.028000e+03</td>\n",
       "    </tr>\n",
       "    <tr>\n",
       "      <th>max</th>\n",
       "      <td>5.381567e+06</td>\n",
       "      <td>5.171263e+08</td>\n",
       "    </tr>\n",
       "  </tbody>\n",
       "</table>\n",
       "</div>"
      ],
      "text/plain": [
       "       listeners_lastfm  scrobbles_lastfm\n",
       "count      9.867600e+05      9.867600e+05\n",
       "mean       6.310180e+03      1.219395e+05\n",
       "std        5.948703e+04      2.314559e+06\n",
       "min        0.000000e+00      0.000000e+00\n",
       "25%        1.000000e+01      4.600000e+01\n",
       "50%        1.000000e+02      5.900000e+02\n",
       "75%        8.190000e+02      6.028000e+03\n",
       "max        5.381567e+06      5.171263e+08"
      ]
     },
     "execution_count": 8,
     "metadata": {},
     "output_type": "execute_result"
    }
   ],
   "source": [
    "df.describe()"
   ]
  },
  {
   "cell_type": "code",
   "execution_count": 10,
   "metadata": {},
   "outputs": [
    {
     "data": {
      "text/plain": [
       "1352995"
      ]
     },
     "execution_count": 10,
     "metadata": {},
     "output_type": "execute_result"
    }
   ],
   "source": [
    "df['artist_mb'].nunique()"
   ]
  },
  {
   "cell_type": "code",
   "execution_count": 11,
   "metadata": {},
   "outputs": [
    {
     "data": {
      "text/plain": [
       "957811"
      ]
     },
     "execution_count": 11,
     "metadata": {},
     "output_type": "execute_result"
    }
   ],
   "source": [
    "df['artist_lastfm'].nunique()"
   ]
  },
  {
   "cell_type": "markdown",
   "metadata": {},
   "source": [
    "&rarr; We have different unique values for artists! Count of _musicbrainz_ is way higher than count of _lastfm_!"
   ]
  }
 ],
 "metadata": {
  "kernelspec": {
   "display_name": ".venv",
   "language": "python",
   "name": "python3"
  },
  "language_info": {
   "codemirror_mode": {
    "name": "ipython",
    "version": 3
   },
   "file_extension": ".py",
   "mimetype": "text/x-python",
   "name": "python",
   "nbconvert_exporter": "python",
   "pygments_lexer": "ipython3",
   "version": "3.11.3"
  },
  "orig_nbformat": 4
 },
 "nbformat": 4,
 "nbformat_minor": 2
}
