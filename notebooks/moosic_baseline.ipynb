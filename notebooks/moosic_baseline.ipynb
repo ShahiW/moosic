{
 "cells": [
  {
   "cell_type": "markdown",
   "metadata": {},
   "source": [
    "# Moosic Baseline Model :: Iteration v1\n",
    "\n",
    "\n",
    "* combining datasets as done prior [data preprocessing][data management]\n",
    "* train test split [modelling]\n",
    "* baseline model [discussion needed]\n",
    "* baseline model sketch and implementation\n",
    "\n",
    "\n",
    "## Importing required libraries\n",
    "\n",
    "\n"
   ]
  },
  {
   "cell_type": "code",
   "execution_count": null,
   "metadata": {},
   "outputs": [],
   "source": [
    "# IMPORT LIBRARIES\n",
    "\n",
    "\n",
    "try:\n",
    "\n",
    "    import numpy as np\n",
    "    import pandas as pd\n",
    "\n",
    "    # databases - sql\n",
    "    #from dotenv import dotenv_values\n",
    "    #import sqlalchemy\n",
    "\n",
    "    # visualisation\n",
    "    import seaborn as sns\n",
    "    import matplotlib.pyplot as plt\n",
    "\n",
    "    # modelling - evaluation metrics\n",
    "    from sklearn.model_selection import train_test_split\n",
    "    from sklearn.cluster import KMeans\n",
    "    from sklearn.preprocessing import StandardScaler\n",
    "\n",
    "    from sklearn.metrics import euclidean_distances\n",
    "    from sklearn.metrics.pairwise import sigmoid_kernel\n",
    "    from sklearn.metrics.pairwise import cosine_similarity\n",
    "\n",
    "\n",
    "    from sklearn.pipeline import Pipeline\n",
    "    from sklearn.manifold import TSNE\n",
    "    from sklearn.decomposition import PCA\n",
    "\n",
    "\n",
    "except ImportError as error:\n",
    "    print(f\"Installation of the required dependencies necessary! {error}\")\n",
    "\n",
    "    %pip install numpy\n",
    "    %pip install pandas\n",
    "    #%pip install dotenv\n",
    "    #%pip install sqlalchemy\n",
    "    %pip install seaborn\n",
    "    %pip install matplotlib\n",
    "    %pip install sklearn\n",
    "\n",
    "    print(f\"Successful installation of the required dependencies necessary\")\n",
    "\n",
    "\n",
    "    import warnings\n",
    "    warnings.filterwarnings('ignore')\n",
    "\n"
   ]
  },
  {
   "cell_type": "markdown",
   "metadata": {},
   "source": [
    "## Loading the data"
   ]
  },
  {
   "cell_type": "code",
   "execution_count": null,
   "metadata": {},
   "outputs": [],
   "source": [
    "df_artists = pd.read_csv('../data/moosic-raw/spotify_600k_artists.csv', low_memory=False)\n",
    "df_artists.head().T"
   ]
  },
  {
   "cell_type": "code",
   "execution_count": null,
   "metadata": {},
   "outputs": [],
   "source": [
    "df_tracks = pd.read_csv('../data/moosic-raw/spotify_600k_tracks.csv', low_memory=False)\n",
    "df_tracks.head().T"
   ]
  },
  {
   "cell_type": "markdown",
   "metadata": {},
   "source": [
    "## Data Overview Artists\n",
    "\n",
    "| column | additional information |\n",
    "|--------|------------------------|\n",
    "| id | id of artist |\n",
    "| followers | number of followers | \n",
    "| genres | genres associated with artist |\n",
    "| name | name of artist |\n",
    "| popularity | popularity of artist in range 0 to 100 |"
   ]
  },
  {
   "cell_type": "markdown",
   "metadata": {},
   "source": [
    "## Data Overview Tracks\n",
    "\n",
    "| column | additional information |\n",
    "|--------|------------------------|\n",
    "| id | id of track |\n",
    "| name | name of track | \n",
    "| popularity | popularity of track in range 0 to 100 |\n",
    "| duration_ms | duration of songs in ms |\n",
    "| explicit | whether it contains explicit content or not |\n",
    "| artists | artists who created the track | \n",
    "| id_artists | id of artists who created the track |\n",
    "| release_date | date of release |\n",
    "| danceability | how danceable a song is in range 0 to 1 |\n",
    "| energy | how energized a song is in range 0 to 1 |\n",
    "| key | The key the track is in. Integers map to pitches using standard Pitch Class notation. E.g. 0 = C, 1 = C♯/D♭, 2 = D, and so on. If no key was detected, the value is -1 |\n",
    "| loudness | The overall loudness of a track in decibels (dB) |\n",
    "| mode |  Mode indicates the modality (major or minor) of a track, the type of scale from which its melodic content is derived. Major is represented by 1 and minor is 0 |\n",
    "| speechiness | Speechiness detects the presence of spoken words in a track. The more exclusively speech-like the recording (e.g. talk show, audio book, poetry), the closer to 1.0 the attribute value. Values above 0.66 describe tracks that are probably made entirely of spoken words. Values between 0.33 and 0.66 describe tracks that may contain both music and speech, either in sections or layered, including such cases as rap music. Values below 0.33 most likely represent music and other non-speech-like tracks |\n",
    "| acousticness | A confidence measure from 0.0 to 1.0 of whether the track is acoustic. 1.0 represents high confidence the track is acoustic |\n",
    "| instrumentalness | Predicts whether a track contains no vocals. \"Ooh\" and \"aah\" sounds are treated as instrumental in this context. Rap or spoken word tracks are clearly \"vocal\". The closer the instrumentalness value is to 1.0, the greater likelihood the track contains no vocal content |\n",
    "| liveness | Detects the presence of an audience in the recording. Higher liveness values represent an increased probability that the track was performed live. A value above 0.8 provides strong likelihood that the track is live |\n",
    "| valence | A measure from 0.0 to 1.0 describing the musical positiveness conveyed by a track. Tracks with high valence sound more positive (e.g. happy, cheerful, euphoric), while tracks with low valence sound more negative (e.g. sad, depressed, angry) |\n",
    "| tempo | The overall estimated tempo of a track in beats per minute (BPM). In musical terminology, tempo is the speed or pace of a given piece and derives directly from the average beat duration | \n",
    "| time_signature | An estimated time signature. The time signature (meter) is a notational convention to specify how many beats are in each bar (or measure). The time signature ranges from 3 to 7 indicating time signatures of 3/4, to 7/4. | "
   ]
  },
  {
   "cell_type": "code",
   "execution_count": null,
   "metadata": {},
   "outputs": [],
   "source": [
    "df_artists.info()"
   ]
  },
  {
   "cell_type": "markdown",
   "metadata": {},
   "source": [
    "&rarr; Some missing values in columns _followers_ and _name_!"
   ]
  },
  {
   "cell_type": "code",
   "execution_count": null,
   "metadata": {},
   "outputs": [],
   "source": [
    "df_tracks.info()"
   ]
  },
  {
   "cell_type": "markdown",
   "metadata": {},
   "source": [
    "&rarr; Some missing values in column _name_!"
   ]
  },
  {
   "cell_type": "code",
   "execution_count": null,
   "metadata": {},
   "outputs": [],
   "source": [
    "df_artists.nunique()"
   ]
  },
  {
   "cell_type": "code",
   "execution_count": null,
   "metadata": {},
   "outputs": [],
   "source": [
    "df_tracks.nunique()"
   ]
  },
  {
   "cell_type": "code",
   "execution_count": null,
   "metadata": {},
   "outputs": [],
   "source": [
    "# get shape of the tracks dataframe\n",
    "\n",
    "print(f\"Track data: There are {df_tracks.shape[0]} observations and {df_tracks.shape[1]} feature variables \")\n",
    "print('----------'*10)\n",
    "\n",
    "df_tracks.shape"
   ]
  },
  {
   "cell_type": "code",
   "execution_count": null,
   "metadata": {},
   "outputs": [],
   "source": [
    "# check for number of null values in each columns\n",
    "\n",
    "df_tracks.isnull().sum()"
   ]
  },
  {
   "cell_type": "markdown",
   "metadata": {},
   "source": [
    "The tracks-csv has all the data we need. From this time on we will only work with the tracks data.\n",
    "We will split the data to avoid data leakage."
   ]
  },
  {
   "cell_type": "code",
   "execution_count": null,
   "metadata": {},
   "outputs": [],
   "source": [
    "# Drop NaNs in column name\n",
    "\n",
    "df_tracks = df_tracks.dropna()"
   ]
  },
  {
   "cell_type": "code",
   "execution_count": null,
   "metadata": {},
   "outputs": [],
   "source": [
    "# re-check for number of null values in each columns\n",
    "\n",
    "df_tracks.isnull().sum()"
   ]
  },
  {
   "cell_type": "code",
   "execution_count": null,
   "metadata": {},
   "outputs": [],
   "source": [
    "# check for duplicates\n",
    "\n",
    "df_tracks.duplicated()"
   ]
  },
  {
   "cell_type": "code",
   "execution_count": null,
   "metadata": {},
   "outputs": [],
   "source": [
    "df_tracks.head()"
   ]
  },
  {
   "cell_type": "markdown",
   "metadata": {},
   "source": [
    "We have duplicated track names. Are these tracks with the same name from different artists, or du we have duplicates for the same track?"
   ]
  },
  {
   "cell_type": "code",
   "execution_count": null,
   "metadata": {},
   "outputs": [],
   "source": [
    "# Check for completely identical rows\n",
    "identical_rows = df_tracks[df_tracks.duplicated(keep=False)]\n",
    "\n",
    "# Print completely identical rows\n",
    "print(\"Completely identical rows:\")\n",
    "print(identical_rows)"
   ]
  },
  {
   "cell_type": "code",
   "execution_count": null,
   "metadata": {},
   "outputs": [],
   "source": [
    "# get count of duplicated values in tracks dataframe\n",
    "\n",
    "display(df_tracks.duplicated().value_counts())"
   ]
  },
  {
   "cell_type": "code",
   "execution_count": null,
   "metadata": {},
   "outputs": [],
   "source": [
    "# show top 5 rows of data (transposed)\n",
    "\n",
    "df_tracks.head().T"
   ]
  },
  {
   "cell_type": "code",
   "execution_count": null,
   "metadata": {},
   "outputs": [],
   "source": [
    "# Train-test Split\n",
    "\n",
    "# Defining X and y\n",
    "features = df_tracks.columns.tolist()\n",
    "features.remove('name')\n",
    "\n",
    "X = df_tracks[features]\n",
    "y = df_tracks['name']\n",
    "\n",
    "print(X.shape)\n",
    "print(y.shape)\n",
    "\n",
    "# Splitting the dataset\n",
    "X_train, X_test, y_train, y_test = train_test_split(X, y, test_size=0.25, random_state=42, shuffle=True)  # , stratify=y)\n",
    "\n",
    "# Check the shape of the data sets\n",
    "print(\"X_train:\", X_train.shape)\n",
    "print(\"y_train:\", y_train.shape)\n",
    "print(\"X_test:\", X_test.shape)\n",
    "print(\"y_test:\", y_test.shape)"
   ]
  },
  {
   "cell_type": "markdown",
   "metadata": {},
   "source": [
    "When we use \n",
    "\n",
    " ```\n",
    "stratify=y \n",
    "```\n",
    "\n",
    "we get a ValueError: The least populated class in y has only 1 member, which is too few. The minimum number of groups for any class cannot be less than 2. \n",
    "\n",
    "This because of the nature of stratification. The stratify parameter set it to split data in a way to allocate test_size amount of data to each class. In this case, you don't have sufficient class labels of one of your classes to keep the data splitting ratio equal to test_size.\n",
    "\n",
    "I confirm the above explanation. I have encountered this situation when dealing with a class that has a very low count . You can either take a random sample (not stratified) or try different test_size values, to be able to have an adequate size that could hold all your various labels."
   ]
  },
  {
   "cell_type": "markdown",
   "metadata": {},
   "source": [
    "# BASELINE MODELS SKETCH AND IMPLEMENTATION\n",
    "\n",
    "------------------------------------\n",
    "\n",
    "```python\n",
    "\n",
    "all_features =  ['id', 'name',\n",
    "    'popularity', 'duration_ms', 'explicit',\n",
    "    'artists', 'id_artists','release_date',\n",
    "    'danceability','energy', 'key',\n",
    "    'loudness', 'mode', 'speechiness',\n",
    "    'acousticness', 'instrumentalness',\n",
    "    'liveness','valence','tempo',\n",
    "    'time_signature']\n",
    "```\n",
    "* baseline_0 recommender: \n",
    "    - baseline focus : when grouped by valence mood category and genre, if popularity \n",
    "                        is greater than 0.7 then recommend top 10 song names and/or most similar content\n",
    "    - baseline features :song name, acousticness, and popularity\n",
    "    - recommend top 10 songs(name)\n",
    "\n",
    "\n",
    "* baseline_1 recommender: \n",
    "    - baseline focus : when grouped by valence mood category and genre, if popularity \n",
    "                        is greater than 0.7 then recommend top N song names and/or most similar content\n",
    "    - baseline features : all features + genre?\n",
    "    - recommend top 10 songs(name) based on valence and popularity\n",
    "\n",
    "* baseline_2 recommender: \n",
    "    - baseline focus : when grouped by valence mood category and genre, if popularity \n",
    "                        is greater than 0.7 then recommend top N song names and/or most similar content\n",
    "    - baseline features : all features + genre? except id, id_artists\n",
    "    - recommend top 10 songs(name) based on valence and popularity\n",
    "\n",
    "* baseline_3 recommender: \n",
    "    - baseline focus : when grouped by valence mood category and genre, if popularity \n",
    "                        is greater than 0.7 then recommend top N song names and/or most similar content\n",
    "    - baseline features : [ 'name', 'popularity', 'duration_ms', \n",
    "                            'danceability','energy', 'loudness','speechiness',\n",
    "                            'acousticness', 'instrumentalness', 'liveness','valence','tempo']\n",
    "    - recommend top 10 songs (name) based on valence and popularity\n",
    "\n",
    "\n",
    "* Metric : Top_N, cosine similarity\n",
    "\n",
    "\n"
   ]
  },
  {
   "cell_type": "code",
   "execution_count": null,
   "metadata": {},
   "outputs": [],
   "source": [
    "# all features\n",
    "\n",
    "all_features =  ['id', 'name',\n",
    "    'popularity', 'duration_ms', 'explicit',\n",
    "    'artists', 'id_artists','release_date',\n",
    "    'danceability','energy', 'key',\n",
    "    'loudness', 'mode', 'speechiness',\n",
    "    'acousticness', 'instrumentalness',\n",
    "    'liveness','valence','tempo',\n",
    "    'time_signature']\n",
    "\n"
   ]
  },
  {
   "cell_type": "code",
   "execution_count": null,
   "metadata": {},
   "outputs": [],
   "source": [
    "# descriptive statistics summary\n",
    "\n",
    "\n",
    "df_tracks[all_features].describe().T.style \\\n",
    "        .format(\"{:.2f}\")\n",
    "\n",
    "\n",
    "\n"
   ]
  },
  {
   "cell_type": "code",
   "execution_count": null,
   "metadata": {},
   "outputs": [],
   "source": [
    "# moosic baseline recommender : similarity based on feature vaiable \n",
    "#baseline focus : when grouped by valence mood category and genre, if popularity \n",
    "# is greater than 0.7 then recommend top 10 song names and/or most similar content\n",
    "# not normalize or scaled\n",
    "# no outliers removed \n",
    "\n",
    "# work in progress!!! to-do\n",
    "def baseline_moosic_v1(dataset, feat_cols, target_col = \"valence\", agg_type = \"mean\", top_n = 10, *args, **kwargs):\n",
    "\n",
    "    data = dataset.groupby(feat_cols).agg({target_col : agg_type}).reset_index()\n",
    "    data = data.sort_values(target_col, ascending=False)\n",
    "    top_n_recommend = data.head(top_n)\n",
    "\n",
    "    return top_n_recommend\n",
    "\n",
    "\n"
   ]
  },
  {
   "cell_type": "code",
   "execution_count": null,
   "metadata": {},
   "outputs": [],
   "source": [
    "# recommendations based on the valence (mood) feature\n",
    "\n",
    "\n",
    "baseline_params_0 = {\n",
    "                'feat_cols' : ['name', 'popularity', 'danceability','energy',\n",
    "                'loudness', 'acousticness', 'instrumentalness', 'tempo'],\n",
    "                'target_col' : 'valence',\n",
    "                'agg_type' : 'mean',\n",
    "                'top_n' : 10\n",
    "        }\n",
    "\n",
    "baseline_0_stats = df_tracks[baseline_params_0['feat_cols']].describe().T.style \\\n",
    "        .format(\"{:.2f}\")\n",
    "\n",
    "display(baseline_0_stats)\n",
    "\n",
    "print(\"_________\"*10)\n",
    "\n",
    "top_n_val = baseline_moosic_v1(df_tracks, **baseline_params_0)\n",
    "\n",
    "top_n_val\n"
   ]
  },
  {
   "cell_type": "code",
   "execution_count": null,
   "metadata": {},
   "outputs": [],
   "source": [
    "# groupby the name --- \n",
    "# aggregate by the mean popularity? name count? max/mintempo?\n",
    "# show top 10\n",
    "\n",
    "baseline_params_1 = {\n",
    "                'feat_cols' : ['valence', 'popularity'],\n",
    "                'target_col' : 'name',\n",
    "                'agg_type' : 'count',\n",
    "                'top_n' : 15\n",
    "        }\n",
    "\n",
    "baseline_1_stats = df_tracks[baseline_params_1['feat_cols']].describe().T.style \\\n",
    "        .format(\"{:.2f}\")\n",
    "\n",
    "display(baseline_1_stats)\n",
    "\n",
    "print(\"_________\"*10)\n",
    "\n",
    "top_n_val1 = baseline_moosic_v1(df_tracks, **baseline_params_1)\n",
    "\n",
    "top_n_val1"
   ]
  },
  {
   "cell_type": "code",
   "execution_count": null,
   "metadata": {},
   "outputs": [],
   "source": [
    "#baseline focus : when grouped by valence mood category and genre, if popularity \n",
    "#is greater than 0.7 then recommend top 10 song names and/or most similar content\n",
    "\n",
    "\n",
    "#re do function\n",
    "# valence bin - curated column or clusters need\n",
    "\n",
    "#df_test = df_tracks.groupby('valence').agg({target_col : agg_type}).reset_index()\n",
    "#df_test\n"
   ]
  },
  {
   "cell_type": "code",
   "execution_count": null,
   "metadata": {},
   "outputs": [],
   "source": [
    "# supervised vs unsupervised?\n",
    "\n",
    "# prediction model of song tracks mood type label?\n",
    "# split dataset into train and test with the target variable as valence (mood)\n",
    "# define the input data feature, X_data and the focus target, y_data\n",
    "# depending on algorithm, how much data to be used\n",
    "\n",
    "\n",
    "X_data = df_tracks.drop(columns=[\"valence\"], axis=1 )\n",
    "y_data = df_tracks['valence']\n",
    "\n",
    "\n",
    "X_train1, X_test1, y_train1, y_test1 = train_test_split(X_data, y_data, test_size=0.25, random_state=42, shuffle=True)\n",
    "\n",
    "dat_shape = {\n",
    "        \"X_train\" : X_train1.shape, \"y_train\": y_train1.shape,\n",
    "        \"X_test\" : X_test1.shape, \"y_test\" : y_test1.shape\n",
    "        }\n",
    "\n",
    "dat_shape"
   ]
  },
  {
   "cell_type": "code",
   "execution_count": null,
   "metadata": {},
   "outputs": [],
   "source": []
  },
  {
   "cell_type": "code",
   "execution_count": null,
   "metadata": {},
   "outputs": [],
   "source": []
  },
  {
   "cell_type": "code",
   "execution_count": null,
   "metadata": {},
   "outputs": [],
   "source": []
  },
  {
   "cell_type": "code",
   "execution_count": null,
   "metadata": {},
   "outputs": [],
   "source": []
  },
  {
   "cell_type": "code",
   "execution_count": null,
   "metadata": {},
   "outputs": [],
   "source": []
  },
  {
   "cell_type": "code",
   "execution_count": null,
   "metadata": {},
   "outputs": [],
   "source": []
  },
  {
   "cell_type": "code",
   "execution_count": null,
   "metadata": {},
   "outputs": [],
   "source": []
  },
  {
   "cell_type": "code",
   "execution_count": null,
   "metadata": {},
   "outputs": [],
   "source": []
  },
  {
   "cell_type": "code",
   "execution_count": null,
   "metadata": {},
   "outputs": [],
   "source": []
  },
  {
   "cell_type": "code",
   "execution_count": null,
   "metadata": {},
   "outputs": [],
   "source": []
  },
  {
   "cell_type": "code",
   "execution_count": null,
   "metadata": {},
   "outputs": [],
   "source": []
  },
  {
   "cell_type": "code",
   "execution_count": null,
   "metadata": {},
   "outputs": [],
   "source": []
  },
  {
   "cell_type": "code",
   "execution_count": null,
   "metadata": {},
   "outputs": [],
   "source": []
  }
 ],
 "metadata": {
  "kernelspec": {
   "display_name": ".venv",
   "language": "python",
   "name": "python3"
  },
  "language_info": {
   "codemirror_mode": {
    "name": "ipython",
    "version": 3
   },
   "file_extension": ".py",
   "mimetype": "text/x-python",
   "name": "python",
   "nbconvert_exporter": "python",
   "pygments_lexer": "ipython3",
   "version": "3.11.3"
  },
  "orig_nbformat": 4
 },
 "nbformat": 4,
 "nbformat_minor": 2
}
