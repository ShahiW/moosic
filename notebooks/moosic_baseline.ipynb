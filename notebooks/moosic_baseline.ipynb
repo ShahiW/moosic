{
 "cells": [
  {
   "cell_type": "markdown",
   "metadata": {},
   "source": [
    "# Moosic Baseline Model :: Iteration v1\n",
    "\n",
    "\n",
    "* combining datasets as done prior [data preprocessing][data management]\n",
    "* train test split [modelling]\n",
    "* baseline model [discussion needed]\n",
    "* baseline model sketch and implementation\n",
    "\n",
    "\n",
    "## Importing required libraries\n",
    "\n",
    "\n"
   ]
  },
  {
   "cell_type": "code",
   "execution_count": null,
   "metadata": {},
   "outputs": [],
   "source": [
    "# IMPORT LIBRARIES\n",
    "\n",
    "\n",
    "try:\n",
    "\n",
    "    import numpy as np\n",
    "    import pandas as pd\n",
    "\n",
    "    # databases - sql\n",
    "    #from dotenv import dotenv_values\n",
    "    #import sqlalchemy\n",
    "\n",
    "    # visualisation\n",
    "    import seaborn as sns\n",
    "    import matplotlib.pyplot as plt\n",
    "\n",
    "    # modelling - evaluation metrics\n",
    "    from sklearn.model_selection import train_test_split\n",
    "    from sklearn.cluster import KMeans\n",
    "    from sklearn.preprocessing import StandardScaler\n",
    "\n",
    "    from sklearn.metrics import euclidean_distances\n",
    "    from sklearn.metrics.pairwise import sigmoid_kernel\n",
    "    from sklearn.metrics.pairwise import cosine_similarity\n",
    "\n",
    "\n",
    "    from sklearn.pipeline import Pipeline\n",
    "    from sklearn.manifold import TSNE\n",
    "    from sklearn.decomposition import PCA\n",
    "\n",
    "\n",
    "except ImportError as error:\n",
    "    print(f\"Installation of the required dependencies necessary! {error}\")\n",
    "\n",
    "    %pip install numpy\n",
    "    %pip install pandas\n",
    "    #%pip install dotenv\n",
    "    #%pip install sqlalchemy\n",
    "    %pip install seaborn\n",
    "    %pip install matplotlib\n",
    "    %pip install sklearn\n",
    "\n",
    "    print(f\"Successful installation of the required dependencies necessary\")\n",
    "\n",
    "\n",
    "    import warnings\n",
    "    warnings.filterwarnings('ignore')\n",
    "\n"
   ]
  },
  {
   "cell_type": "markdown",
   "metadata": {},
   "source": [
    "## Loading the data"
   ]
  },
  {
   "cell_type": "code",
   "execution_count": null,
   "metadata": {},
   "outputs": [],
   "source": [
    "df_artists = pd.read_csv('../data/moosic-raw/spotify_600k_artists.csv', low_memory=False)\n",
    "df_artists.head().T"
   ]
  },
  {
   "cell_type": "code",
   "execution_count": null,
   "metadata": {},
   "outputs": [],
   "source": [
    "df_tracks = pd.read_csv('../data/moosic-raw/spotify_600k_tracks.csv', low_memory=False)\n",
    "df_tracks.head().T"
   ]
  },
  {
   "cell_type": "markdown",
   "metadata": {},
   "source": [
    "## Data Overview Artists\n",
    "\n",
    "| column | additional information |\n",
    "|--------|------------------------|\n",
    "| id | id of artist |\n",
    "| followers | number of followers | \n",
    "| genres | genres associated with artist |\n",
    "| name | name of artist |\n",
    "| popularity | popularity of artist in range 0 to 100 |"
   ]
  },
  {
   "cell_type": "markdown",
   "metadata": {},
   "source": [
    "## Data Overview Tracks\n",
    "\n",
    "| column | additional information |\n",
    "|--------|------------------------|\n",
    "| id | id of track |\n",
    "| name | name of track | \n",
    "| popularity | popularity of track in range 0 to 100 |\n",
    "| duration_ms | duration of songs in ms |\n",
    "| explicit | whether it contains explicit content or not |\n",
    "| artists | artists who created the track | \n",
    "| id_artists | id of artists who created the track |\n",
    "| release_date | date of release |\n",
    "| danceability | how danceable a song is in range 0 to 1 |\n",
    "| energy | how energized a song is in range 0 to 1 |\n",
    "| key | The key the track is in. Integers map to pitches using standard Pitch Class notation. E.g. 0 = C, 1 = C♯/D♭, 2 = D, and so on. If no key was detected, the value is -1 |\n",
    "| loudness | The overall loudness of a track in decibels (dB) |\n",
    "| mode |  Mode indicates the modality (major or minor) of a track, the type of scale from which its melodic content is derived. Major is represented by 1 and minor is 0 |\n",
    "| speechiness | Speechiness detects the presence of spoken words in a track. The more exclusively speech-like the recording (e.g. talk show, audio book, poetry), the closer to 1.0 the attribute value. Values above 0.66 describe tracks that are probably made entirely of spoken words. Values between 0.33 and 0.66 describe tracks that may contain both music and speech, either in sections or layered, including such cases as rap music. Values below 0.33 most likely represent music and other non-speech-like tracks |\n",
    "| acousticness | A confidence measure from 0.0 to 1.0 of whether the track is acoustic. 1.0 represents high confidence the track is acoustic |\n",
    "| instrumentalness | Predicts whether a track contains no vocals. \"Ooh\" and \"aah\" sounds are treated as instrumental in this context. Rap or spoken word tracks are clearly \"vocal\". The closer the instrumentalness value is to 1.0, the greater likelihood the track contains no vocal content |\n",
    "| liveness | Detects the presence of an audience in the recording. Higher liveness values represent an increased probability that the track was performed live. A value above 0.8 provides strong likelihood that the track is live |\n",
    "| valence | A measure from 0.0 to 1.0 describing the musical positiveness conveyed by a track. Tracks with high valence sound more positive (e.g. happy, cheerful, euphoric), while tracks with low valence sound more negative (e.g. sad, depressed, angry) |\n",
    "| tempo | The overall estimated tempo of a track in beats per minute (BPM). In musical terminology, tempo is the speed or pace of a given piece and derives directly from the average beat duration | \n",
    "| time_signature | An estimated time signature. The time signature (meter) is a notational convention to specify how many beats are in each bar (or measure). The time signature ranges from 3 to 7 indicating time signatures of 3/4, to 7/4. | "
   ]
  },
  {
   "cell_type": "code",
   "execution_count": null,
   "metadata": {},
   "outputs": [],
   "source": [
    "df_artists.info()"
   ]
  },
  {
   "cell_type": "markdown",
   "metadata": {},
   "source": [
    "&rarr; Some missing values in columns _followers_ and _name_!"
   ]
  },
  {
   "cell_type": "code",
   "execution_count": null,
   "metadata": {},
   "outputs": [],
   "source": [
    "df_tracks.info()"
   ]
  },
  {
   "cell_type": "markdown",
   "metadata": {},
   "source": [
    "&rarr; Some missing values in column _name_!"
   ]
  },
  {
   "cell_type": "code",
   "execution_count": null,
   "metadata": {},
   "outputs": [],
   "source": [
    "df_artists.nunique()"
   ]
  },
  {
   "cell_type": "code",
   "execution_count": null,
   "metadata": {},
   "outputs": [],
   "source": [
    "df_tracks.nunique()"
   ]
  },
  {
   "cell_type": "code",
   "execution_count": null,
   "metadata": {},
   "outputs": [],
   "source": [
    "# get shape of the tracks dataframe\n",
    "\n",
    "print(f\"Track data: There are {df_tracks.shape[0]} observations and {df_tracks.shape[1]} feature variables \")\n",
    "print('----------'*10)\n",
    "\n",
    "df_tracks.shape"
   ]
  },
  {
   "cell_type": "code",
   "execution_count": null,
   "metadata": {},
   "outputs": [],
   "source": [
    "# check for number of null values in each columns\n",
    "\n",
    "df_tracks.isnull().sum()"
   ]
  },
  {
   "cell_type": "markdown",
   "metadata": {},
   "source": [
    "The tracks-csv has all the data we need. From this time on we will only work with the tracks data.\n",
    "We will split the data to avoid data leakage."
   ]
  },
  {
   "cell_type": "code",
   "execution_count": null,
   "metadata": {},
   "outputs": [],
   "source": [
    "# Drop NaNs in column name\n",
    "\n",
    "df_tracks = df_tracks.dropna()"
   ]
  },
  {
   "cell_type": "code",
   "execution_count": null,
   "metadata": {},
   "outputs": [],
   "source": [
    "# re-check for number of null values in each columns\n",
    "\n",
    "df_tracks.isnull().sum()"
   ]
  },
  {
   "cell_type": "code",
   "execution_count": null,
   "metadata": {},
   "outputs": [],
   "source": [
    "# check for duplicates\n",
    "\n",
    "df_tracks.duplicated()"
   ]
  },
  {
   "cell_type": "code",
   "execution_count": null,
   "metadata": {},
   "outputs": [],
   "source": [
    "df_tracks.head()"
   ]
  },
  {
   "cell_type": "markdown",
   "metadata": {},
   "source": [
    "We have duplicated track names. Are these tracks with the same name from different artists, or du we have duplicates for the same track?"
   ]
  },
  {
   "cell_type": "code",
   "execution_count": null,
   "metadata": {},
   "outputs": [],
   "source": [
    "# Check for completely identical rows\n",
    "identical_rows = df_tracks[df_tracks.duplicated(keep=False)]\n",
    "\n",
    "# Print completely identical rows\n",
    "print(\"Completely identical rows:\")\n",
    "print(identical_rows)"
   ]
  },
  {
   "cell_type": "code",
   "execution_count": null,
   "metadata": {},
   "outputs": [],
   "source": [
    "# get count of duplicated values in tracks dataframe\n",
    "\n",
    "display(df_tracks.duplicated().value_counts())"
   ]
  },
  {
   "cell_type": "code",
   "execution_count": null,
   "metadata": {},
   "outputs": [],
   "source": [
    "# show top 5 rows of data (transposed)\n",
    "\n",
    "df_tracks.head().T"
   ]
  },
  {
   "cell_type": "code",
   "execution_count": null,
   "metadata": {},
   "outputs": [],
   "source": [
    "# Train-test Split\n",
    "\n",
    "# Defining X and y\n",
    "features = df_tracks.columns.tolist()\n",
    "features.remove('name')\n",
    "\n",
    "X = df_tracks[features]\n",
    "y = df_tracks['name']\n",
    "\n",
    "print(X.shape)\n",
    "print(y.shape)\n",
    "\n",
    "# Splitting the dataset\n",
    "X_train, X_test, y_train, y_test = train_test_split(X, y, test_size=0.25, random_state=42, shuffle=True)  # , stratify=y)\n",
    "\n",
    "# Check the shape of the data sets\n",
    "print(\"X_train:\", X_train.shape)\n",
    "print(\"y_train:\", y_train.shape)\n",
    "print(\"X_test:\", X_test.shape)\n",
    "print(\"y_test:\", y_test.shape)"
   ]
  },
  {
   "cell_type": "markdown",
   "metadata": {},
   "source": [
    "When we use \n",
    "\n",
    " ```\n",
    "stratify=y \n",
    "```\n",
    "\n",
    "we get a ValueError: The least populated class in y has only 1 member, which is too few. The minimum number of groups for any class cannot be less than 2. \n",
    "\n",
    "This because of the nature of stratification. The stratify parameter set it to split data in a way to allocate test_size amount of data to each class. In this case, you don't have sufficient class labels of one of your classes to keep the data splitting ratio equal to test_size.\n",
    "\n",
    "I confirm the above explanation. I have encountered this situation when dealing with a class that has a very low count . You can either take a random sample (not stratified) or try different test_size values, to be able to have an adequate size that could hold all your various labels."
   ]
  },
  {
   "cell_type": "code",
   "execution_count": null,
   "metadata": {},
   "outputs": [],
   "source": []
  },
  {
   "cell_type": "markdown",
   "metadata": {},
   "source": [
    "\n",
    "---\n",
    "\n",
    "# BASELINE MODELS SKETCH AND IMPLEMENTATION\n",
    "\n",
    "------------------------------------\n",
    "\n",
    "> We have 586672 observations and 20 feature variables in our current (initial) dataset\n",
    "\n",
    "```python\n",
    "\n",
    "all_features =  ['id', 'name',\n",
    "    'popularity', 'duration_ms', 'explicit',\n",
    "    'artists', 'id_artists','release_date',\n",
    "    'danceability','energy', 'key',\n",
    "    'loudness', 'mode', 'speechiness',\n",
    "    'acousticness', 'instrumentalness',\n",
    "    'liveness','valence','tempo',\n",
    "    'time_signature']\n",
    "```\n",
    "\n",
    "#### Baseline model sketch\n",
    "\n",
    "\n",
    "> baseline recommender: \n",
    "\n",
    "* baseline focus : \n",
    "    - similarity :  measure similarity based on valence mood category and genre, if popularity is greater than 0.7 then recommend top N song names and/or most similar content\n",
    "    - top N : when grouped by valence mood category and genre, if popularity is greater than 0.7 then recommend top 10 song names and/or most similar content\n",
    "\n",
    "* baseline features :\n",
    "    - all features + genre? except id, id_artists\n",
    "    - song name, acousticness, and popularity\n",
    "\n",
    "* baseline features : all features + genre?\n",
    "\n",
    "* recommend top 10 songs(name) based on similarity measure of genre (group by valence)\n",
    "\n",
    "\n",
    "> next - main recommender model : \n",
    "\n",
    "* main model next :  mood groups/labels based on valence value\n",
    "* recommend top N = 10 songs(name) based on mood label and popularity by genre/name/artist\n",
    "\n",
    "\n",
    "* baseline recommender function:\n",
    "\n",
    "    - similarity measure of track , genre , valence(category), artists\n",
    "    - feat_col = ['valence', 'genre', 'name of music track', 'artists', 'popularity', acoust]\n",
    "    - metric : similarity metric, top N\n",
    "    - TSNE, KMeans, SVD, PCA\n",
    "\n",
    "    - \n",
    "\n",
    "\n",
    "* Metric : Top_N, cosine similarity\n",
    "\n",
    "\n"
   ]
  },
  {
   "cell_type": "code",
   "execution_count": null,
   "metadata": {},
   "outputs": [],
   "source": [
    "# IMPORT LIBRARIES\n",
    "\n",
    "\n",
    "try:\n",
    "\n",
    "    import numpy as np\n",
    "    import pandas as pd\n",
    "\n",
    "    # databases - sql\n",
    "    #from dotenv import dotenv_values\n",
    "    #import sqlalchemy\n",
    "\n",
    "    # visualisation\n",
    "    import seaborn as sns\n",
    "    import matplotlib.pyplot as plt\n",
    "\n",
    "    # split data - avoid data leakage\n",
    "    from sklearn.model_selection import train_test_split\n",
    "\n",
    "    # preprocessing, scaling\n",
    "    from sklearn.preprocessing import StandardScaler\n",
    "    from sklearn.preprocessing import MinMaxScaler\n",
    "\n",
    "    # modelling\n",
    "    from sklearn.cluster import KMeans\n",
    "\n",
    "    # cross validation, hyperparameter tuning\n",
    "    #from surprise.model_selection import GridSearchCV\n",
    "    from sklearn.model_selection import GridSearchCV\n",
    "\n",
    "    # metrics\n",
    "    from sklearn.metrics import euclidean_distances\n",
    "    from sklearn.metrics.pairwise import sigmoid_kernel\n",
    "    from sklearn.metrics.pairwise import cosine_similarity\n",
    "\n",
    "    # high dimensional usage - dimensionality reduction\n",
    "    from sklearn.manifold import TSNE\n",
    "    from sklearn.decomposition import PCA\n",
    "\n",
    "    # text converter/vectorizer\n",
    "    from sentence_transformers import SentenceTransformer\n",
    "    from sklearn.feature_extraction.text import CountVectorizer\n",
    "\n",
    "    # pipeline\n",
    "    from sklearn.pipeline import Pipeline\n",
    "\n",
    "\n",
    "\n",
    "except ImportError as error:\n",
    "    print(f\"Installation of the required dependencies necessary! {error}\")\n",
    "\n",
    "    %pip install numpy\n",
    "    %pip install pandas\n",
    "    #%pip install dotenv\n",
    "    #%pip install sqlalchemy\n",
    "    %pip install seaborn\n",
    "    %pip install matplotlib\n",
    "    %pip install scikit-learn\n",
    "    \n",
    "    %pip install scikit-surprise\n",
    "    %pip install sentence-transformers\n",
    "\n",
    "    print(f\"Successful installation of the required dependencies necessary\")\n",
    "\n",
    "\n",
    "    import warnings\n",
    "    warnings.filterwarnings('ignore')\n",
    "\n"
   ]
  },
  {
   "cell_type": "code",
   "execution_count": null,
   "metadata": {},
   "outputs": [],
   "source": [
    "# all features\n",
    "\n",
    "all_features =  ['id', 'name',\n",
    "    'popularity', 'duration_ms', 'explicit',\n",
    "    'artists', 'id_artists','release_date',\n",
    "    'danceability','energy', 'key',\n",
    "    'loudness', 'mode', 'speechiness',\n",
    "    'acousticness', 'instrumentalness',\n",
    "    'liveness','valence','tempo',\n",
    "    'time_signature']\n",
    "\n"
   ]
  },
  {
   "cell_type": "code",
   "execution_count": null,
   "metadata": {},
   "outputs": [],
   "source": [
    "# descriptive statistics summary\n",
    "\n",
    "\n",
    "df_tracks[all_features].describe().T.style \\\n",
    "        .format(\"{:.2f}\")\n",
    "\n",
    "\n",
    "\n"
   ]
  },
  {
   "cell_type": "code",
   "execution_count": null,
   "metadata": {},
   "outputs": [],
   "source": [
    "# display data\n",
    "\n",
    "df_tracks.head()\n"
   ]
  },
  {
   "cell_type": "code",
   "execution_count": null,
   "metadata": {},
   "outputs": [],
   "source": []
  },
  {
   "cell_type": "markdown",
   "metadata": {},
   "source": [
    "\n",
    "### Clustering data based on mood (valence) and other audio features\n",
    "\n",
    "\n",
    "\n",
    "\n"
   ]
  },
  {
   "cell_type": "code",
   "execution_count": null,
   "metadata": {},
   "outputs": [],
   "source": [
    "#\n",
    "\n",
    "# similarity recommend measure\n",
    "# queries based on similar mood tracks\n",
    "# modify column -- \n",
    "    # cols = valence .. n most high values of valence = 1. \n",
    "    # what are the top N mood-based-music in our data/ recommendation list?\n",
    "# columns = ['mood_label', 'mood_class', 'music_name', 'acousticness','danceability','energy','instrumentalness','liveness','speechiness','valence']\n",
    "# mood-emotions scale.. between 0 to 1 , group into 8 \n",
    "\n",
    "# n_songs = 10 # 10 closes tracks neighbors\n",
    "# filter_based_on_cols = [\"valence\", \"acoustiness\", \"energy\", \"danceability\"]\n",
    "# sad_tracks = {\"valence\": 0, \"acoustiness\": 0}\n",
    "# ... other moods and audio features\n",
    "# happy_tracks = {\"valence\": 1, \"acoustiness\": 1 }\n",
    "\n",
    "# search music track based on mood\n",
    "# for music in mood_based_query( query_input = mood_based_data column).retrieve(top_n_songs):\n",
    "    # trackname = get_track_name(moosic_data[name?])\n",
    "    # search_music_name = search(music_name)\n",
    "\n",
    "# mood based recommender\n",
    "#music mood classification/prediction\n",
    "# curate spotify music data to identifyand tag music with moods\n",
    "\n",
    "\n",
    "\n",
    "\n",
    "\n"
   ]
  },
  {
   "cell_type": "code",
   "execution_count": null,
   "metadata": {},
   "outputs": [],
   "source": [
    "# create new column 'mood labels'(text) and 'mood_class'(nominal value) \n",
    "\n",
    "\n",
    "\n",
    "#mood_labels = [\"happy\", \"exuberant\", \"energetic\", \"frantic\", \"anxious/sad\", \"depression\", \"calm\", \"content\"]\n",
    "#mood_valence_values =  [1.0, 0.875, 0.75, 0.625, 0.5, 0.375, 0.25, 0.125, 0.0]\n",
    "\n",
    "mood_labels = [\"content\", \"calm\", \"depression\", \"anxious/sad\", \"frantic\", \"energetic\", \"exuberant\", \"happy\"]\n",
    "mood_class = [0, 1, 2, 3, 4, 5, 6, 7]\n",
    "mood_valence_values =  [0.0 , 0.125, 0.25, 0.375, 0.5, 0.625, 0.75, 0.875, 1.0]\n",
    "\n",
    "# copy of data and info\n",
    "\n",
    "moosic_data = df_tracks.copy(deep=True)\n",
    "\n",
    "moosic_data[\"mood_labels\"] = (pd.cut(moosic_data[\"valence\"], bins=mood_valence_values, labels=mood_labels)).astype('string')\n",
    "moosic_data[\"mood_class\"] = (pd.cut(moosic_data[\"valence\"], bins=mood_valence_values, labels=mood_class)).astype('Int64')\n",
    "moosic_data = moosic_data.rename({'name': 'music_name', 'id': 'music_id', 'mode': 'modality', 'popularity': 'music_popularity'}, axis=1)\n",
    "moosic_data.head(10)\n"
   ]
  },
  {
   "cell_type": "code",
   "execution_count": null,
   "metadata": {},
   "outputs": [],
   "source": [
    "# specify features, drop id, id_artists\n",
    "# unsupervised : kmeans clustering\n",
    "# elbow method to get best number of clusters\n",
    "\n",
    "df_moosic = moosic_data.copy(deep=True)\n",
    "cat_data = df_moosic.select_dtypes(include=['object', 'string'])\n",
    "cat_features = cat_data.columns.tolist()\n",
    "\n",
    "print(cat_features)\n",
    "\n",
    "num_data = df_moosic.select_dtypes(include=['int64', 'float64'])\n",
    "num_features = num_data.columns.tolist()\n",
    "\n",
    "print(num_features)\n",
    "\n",
    "\n"
   ]
  },
  {
   "cell_type": "code",
   "execution_count": null,
   "metadata": {},
   "outputs": [],
   "source": [
    "# moosic baseline recommender : similarity based on feature vaiable \n",
    "#baseline focus : when grouped by valence mood category and genre, \n",
    "# if music is in similar queried mood_class as others then recommend top 10 song names and/or most similar content\n",
    "# not normalize or scaled\n",
    "# no outliers removed \n",
    "\n",
    "# work in progress!!! to-do\n",
    "\n",
    "\n",
    "# test\n",
    "''' \n",
    "baseline_params_0 = {\n",
    "                'feat_cols' : ['music_name', 'popularity', 'danceability','energy',\n",
    "                'loudness', 'acousticness', 'instrumentalness', 'tempo'],\n",
    "                'target_col' : 'valence',\n",
    "                'agg_type' : 'mean',\n",
    "                'top_n' : 10\n",
    "        }\n",
    "'''\n",
    "\n",
    "def baseline_moosic_v1(dataset, feat_cols= \"mood_label\", target_col = \"music_name\", agg_type = \"count\", top_n = 10, *args, **kwargs):\n",
    "\n",
    "    data = dataset.groupby(feat_cols).agg({target_col : agg_type}).reset_index()\n",
    "    data = data.sort_values(target_col, ascending=False)\n",
    "    top_n_recommend = data.head(top_n)\n",
    "\n",
    "    return top_n_recommend\n",
    "\n",
    "\n",
    "\n"
   ]
  },
  {
   "cell_type": "code",
   "execution_count": null,
   "metadata": {},
   "outputs": [],
   "source": [
    "\n",
    "\n",
    "\n",
    "# recommendations based on the valence (mood) feature\n",
    "# mood_label, mood_class, name of music track\n",
    "\n",
    "\n",
    "baseline_params_0 = {\n",
    "                'feat_cols' : ['mood_labels', 'mood_class'],\n",
    "                'target_col' : 'music_name',\n",
    "                'agg_type' : 'count',\n",
    "                'top_n' : 10\n",
    "        }\n",
    "\n",
    "baseline_0_stats = moosic_data[baseline_params_0['feat_cols']].describe().T.style \\\n",
    "        .format(\"{:.2f}\")\n",
    "\n",
    "display(baseline_0_stats)\n",
    "\n",
    "print(\"_________\"*10)\n",
    "\n",
    "top_n_val = baseline_moosic_v1(moosic_data, **baseline_params_0)\n",
    "\n",
    "top_n_val.sort_values(by=['mood_class'], ascending=True)\n",
    "\n"
   ]
  },
  {
   "cell_type": "code",
   "execution_count": null,
   "metadata": {},
   "outputs": [],
   "source": [
    "# test\n",
    "mood_filter = 'calm'\n",
    "moosic_data['mood_labels'].str.contains(mood_filter).any()"
   ]
  },
  {
   "cell_type": "code",
   "execution_count": null,
   "metadata": {},
   "outputs": [],
   "source": [
    "## mood based baseline recommender\n",
    "## recommend music based on similar mood classes/label\n",
    "\n",
    "## Work in progress (WIP): \n",
    "    # mood filter or query can be a string based on mood label or mood class scale from 0 to 7\n",
    "    # i.e. mood_filter = 'calm' or mood_filter = 1\n",
    "\n",
    "\n",
    "def baseline_moosic_v2(dataset, mood_filter = 'calm', feat_cols= \"mood_labels\", \n",
    "                        target_col = \"music_name\", agg_type = \"count\", top_n = 10, *args, **kwargs):\n",
    "\n",
    "\n",
    "    data = dataset.groupby(feat_cols).agg({target_col : agg_type}).reset_index()\n",
    "    data = data.sort_values(target_col, ascending=False)\n",
    "\n",
    "    if (isinstance(mood_filter, str)) and (data['mood_labels'].str.contains(mood_filter).any() == True):\n",
    "        print(f'''Here are the top {top_n} music recommendations based on your current mood : {mood_filter} ''')\n",
    "\n",
    "        for music in data.query(f\" mood_labels == {mood_filter}\").samples(top_n):\n",
    "            top_n_recommend = music\n",
    "            print(top_n_recommend)\n",
    "\n",
    "    elif (isinstance(mood_filter, int)) and (data['mood_labels'].str.contains(mood_filter).any() == True):\n",
    "        print(f'''Here are the top {top_n} music recommendations based on your current mood : {mood_filter} ''')\n",
    "\n",
    "        for music in data.query(f\" mood_labels == {mood_filter}\").samples(top_n):\n",
    "            top_n_recommend = music\n",
    "            print(top_n_recommend)\n",
    "\n",
    "    else:\n",
    "        print('Error: enter mood eithwe by mood-label-text or mood-class-value')\n",
    "        break\n",
    "\n",
    "    return top_n_recommend\n",
    "\n",
    "\n",
    "\n",
    "\n"
   ]
  },
  {
   "cell_type": "code",
   "execution_count": null,
   "metadata": {},
   "outputs": [],
   "source": [
    "\n",
    "# recommendations for baseline model\n",
    "\n",
    "mood_based_params_0 = {\n",
    "                'feat_cols' : ['mood_labels', 'mood_class'],\n",
    "                'target_col' : 'music_name',\n",
    "                'agg_type' : 'count',\n",
    "                'top_n' : 10\n",
    "        }\n",
    "\n",
    "\n",
    "moosic_baseline_stats = moosic_data[mood_based_params_0['feat_cols']].describe().T.style \\\n",
    "        .format(\"{:.2f}\")\n",
    "\n",
    "display(moosic_baseline_stats)\n",
    "\n",
    "print(\"_________\"*10)\n",
    "\n",
    "moosic_baseline_recommender = baseline_moosic_v2(moosic_data, **mood_based_params_0)\n",
    "\n",
    "moosic_baseline_recommender.sort_values(by=['mood_class'], ascending=True)\n",
    "\n",
    "\n"
   ]
  },
  {
   "cell_type": "code",
   "execution_count": null,
   "metadata": {},
   "outputs": [],
   "source": []
  },
  {
   "cell_type": "code",
   "execution_count": null,
   "metadata": {},
   "outputs": [],
   "source": []
  },
  {
   "cell_type": "code",
   "execution_count": null,
   "metadata": {},
   "outputs": [],
   "source": []
  },
  {
   "cell_type": "code",
   "execution_count": null,
   "metadata": {},
   "outputs": [],
   "source": [
    "\n",
    "#df_mdata = df_data.drop(columns=[\"id\", \"id_artists\"], axis=1)\n",
    "#df_mdata = df_data.drop(columns=[*cat_features], axis=1)\n",
    "\n",
    "moosic_data_0 = moosic_data[['popularity', 'valence', 'tempo']]\n",
    "\n",
    "\n",
    "plt.figure(figsize=(15,6))\n",
    "sns.barplot(x=agex, y=agey, palette=['grey', 'grey','red','grey','grey'])\n",
    "plt.title(\"Age (years)\")\n",
    "plt.xlabel(\"Age\")\n",
    "plt.ylabel(\"Number of Customer\")\n",
    "plt.show()\n",
    "\n",
    "wcss_1 = []\n",
    "for i in range(5, 20):\n",
    "    km1 = KMeans(n_clusters = i, init = 'k-means++', max_iter = 300, n_init = 10, random_state = 0)\n",
    "    km1.fit(df_mdata)\n",
    "    wcss_1.append(km1.inertia_)\n",
    "fig0=plt.figure(figsize=(10,6))  \n",
    "fig0.patch.set_facecolor('#f6f5f5')\n",
    "\n",
    "print('shape of data', df_mdata.shape)\n",
    "#print('wcss1', wcss_1)\n",
    "\n",
    "print('______'*20)\n",
    "\n",
    "plt.plot(range(5, 20), wcss_1)\n",
    "plt.title('The Elbow Method', fontsize = 20)\n",
    "plt.xlabel('No. of Clusters')\n",
    "plt.ylabel('wcss')\n",
    "fig0.text(0.5,0.4,\"The best k-value is here\")\n",
    "plt.show()\n",
    "\n",
    "\n"
   ]
  },
  {
   "cell_type": "code",
   "execution_count": null,
   "metadata": {},
   "outputs": [],
   "source": [
    "# train and predict kmeans model with the best number of clusters values given, n_clusters = 6\n",
    "\n",
    "\n",
    "km1 = KMeans(n_clusters = 6, init = 'k-means++', max_iter = 300, n_init = 10, random_state = 0)\n",
    "y_means1 = km1.fit_predict(x1)"
   ]
  },
  {
   "cell_type": "code",
   "execution_count": null,
   "metadata": {},
   "outputs": [],
   "source": []
  },
  {
   "cell_type": "code",
   "execution_count": null,
   "metadata": {},
   "outputs": [],
   "source": []
  },
  {
   "cell_type": "markdown",
   "metadata": {},
   "source": [
    "---\n",
    "\n",
    "[algo] define  model based on similarity of possible target features and focus\n",
    "\n",
    "---\n"
   ]
  },
  {
   "cell_type": "code",
   "execution_count": null,
   "metadata": {},
   "outputs": [],
   "source": [
    "# TSNE (T-distributed Stochastic Neighbor Embedding) ML model \n",
    "\n",
    "\"\"\"\n",
    "# T-SNE (T-distributed Stochastic Neighbor Embedding) ML model \n",
    "\n",
    "- unsupervised approach\n",
    "- randomized nonlinear dimensionality reduction technique\n",
    "- for high (multi-) dimensional data e.g N = 18 dimension space(asides id & artist id) for our data\n",
    "- embeds high dimension data visually in a low dimension space of 2 or 3 dim\n",
    "- i.e map high-dim data to low-dim space\n",
    "- not affected by outliers\n",
    "\n",
    "- algorithm :\n",
    "    - randomized approach  for dimensionality reduction (not deterministic like PCA)\n",
    "    - finds patterns in data based on similarity of data points with features \n",
    "    - similarity measure : pairwise conditional probability of data points choosing other data  with similar features as its neighbour\n",
    "    - P(data point a | data point b) = P(data point a _n_ data point b) / P( data point b)\n",
    "    - then minimize the sum of the difference between the similarities measured in high-dim and low-dim\n",
    "    - represents datapoints properly in low-dim space\n",
    "\n",
    "    - space/time complexity : quadratic time and space , inthe number of datapoints\n",
    "\n",
    "- standardized data before usage to save time complexity needed for reduction process.\n",
    "\n",
    "\n",
    "\n",
    "\"\"\"\n",
    "\n",
    "#standardized_data = StandardScaler().fit_transform(data)\n",
    "#print(standardized_data.shape)\n",
    "\n",
    "\n",
    "#dftracks = df_tracks.drop(['id', 'id_artists'], axis = 1)\n",
    "dftracks = df_data[['popularity', 'valence', 'tempo']]\n",
    "\n",
    "model = TSNE(n_components = 2, random_state = 0)\n",
    "tsne_data = model.fit_transform(dftracks.head(500))\n",
    "plt.figure(figsize = (7, 7))\n",
    "plt.scatter(tsne_data[:,0], tsne_data[:,1])\n",
    "plt.show()\n",
    "\n",
    "\n"
   ]
  },
  {
   "cell_type": "code",
   "execution_count": null,
   "metadata": {},
   "outputs": [],
   "source": [
    "dftracks0 = df_data[['popularity', 'valence', 'tempo']]\n",
    "\n",
    "model0 = TSNE(n_components = 3, random_state = 0)\n",
    "tsne_data0 = model0.fit_transform(dftracks0.head(500))\n",
    "plt.figure(figsize = (7, 7))\n",
    "plt.scatter(tsne_data0[:,0], tsne_data0[:,1])\n",
    "plt.show()\n"
   ]
  },
  {
   "cell_type": "code",
   "execution_count": null,
   "metadata": {},
   "outputs": [],
   "source": [
    "dftracks1 = df_data[['popularity', 'valence']] #df_data[['valence', 'tempo']]\n",
    "\n",
    "model1 = TSNE(n_components = 2, random_state = 0)\n",
    "tsne_data1 = model1.fit_transform(dftracks1.head(500))\n",
    "plt.figure(figsize = (7, 7))\n",
    "plt.scatter(tsne_data1[:,0], tsne_data1[:,1])\n",
    "plt.show()"
   ]
  },
  {
   "cell_type": "code",
   "execution_count": null,
   "metadata": {},
   "outputs": [],
   "source": [
    "standardized_data = StandardScaler().fit_transform(df_data[num_features])\n",
    "print(standardized_data.shape)\n",
    "\n",
    "\n",
    "\n"
   ]
  },
  {
   "cell_type": "code",
   "execution_count": null,
   "metadata": {},
   "outputs": [],
   "source": []
  },
  {
   "cell_type": "code",
   "execution_count": null,
   "metadata": {},
   "outputs": [],
   "source": []
  },
  {
   "cell_type": "code",
   "execution_count": null,
   "metadata": {},
   "outputs": [],
   "source": [
    "# Cosine similarity measure \n",
    "\n",
    "\"\"\"\n",
    "# Cosine similarity measure \n",
    "\n",
    "\n",
    "- unsupervised approach\n",
    "- randomized nonlinear dimensionality reduction technique\n",
    "- for high (multi-) dimensional data e.g N = 18 dimension space(asides id & artist id) for our data\n",
    "- embeds high dimension data visually in a low dimension space of 2 or 3 dim\n",
    "- i.e map high-dim data to low-dim space\n",
    "- not affected by outliers\n",
    "\n",
    "- algorithm :\n",
    "    - randomized approach  for dimensionality reduction (not deterministic like PCA)\n",
    "    - finds patterns in data based on similarity of data points with features \n",
    "    - similarity measure : pairwise conditional probability of data points choosing other data  with similar features as its neighbour\n",
    "    - P(data point a | data point b) = P(data point a _n_ data point b) / P( data point b)\n",
    "    - then minimize the sum of the difference between the similarities measured in high-dim and low-dim\n",
    "    - represents datapoints properly in low-dim space\n",
    "\n",
    "    - space/time complexity : quadratic time and space , inthe number of datapoints\n",
    "\n",
    "\n",
    "\n",
    "\n",
    "\"\"\"\n",
    "\n",
    "\n",
    "\n"
   ]
  },
  {
   "cell_type": "code",
   "execution_count": null,
   "metadata": {},
   "outputs": [],
   "source": []
  },
  {
   "cell_type": "code",
   "execution_count": null,
   "metadata": {},
   "outputs": [],
   "source": [
    "\n",
    "\n",
    "\n",
    "\n"
   ]
  },
  {
   "cell_type": "code",
   "execution_count": null,
   "metadata": {},
   "outputs": [],
   "source": []
  },
  {
   "cell_type": "code",
   "execution_count": null,
   "metadata": {},
   "outputs": [],
   "source": []
  },
  {
   "cell_type": "code",
   "execution_count": null,
   "metadata": {},
   "outputs": [],
   "source": [
    "\n"
   ]
  },
  {
   "cell_type": "code",
   "execution_count": null,
   "metadata": {},
   "outputs": [],
   "source": []
  },
  {
   "cell_type": "code",
   "execution_count": null,
   "metadata": {},
   "outputs": [],
   "source": []
  },
  {
   "cell_type": "code",
   "execution_count": null,
   "metadata": {},
   "outputs": [],
   "source": []
  },
  {
   "cell_type": "code",
   "execution_count": null,
   "metadata": {},
   "outputs": [],
   "source": []
  },
  {
   "cell_type": "code",
   "execution_count": null,
   "metadata": {},
   "outputs": [],
   "source": []
  },
  {
   "cell_type": "code",
   "execution_count": null,
   "metadata": {},
   "outputs": [],
   "source": []
  },
  {
   "cell_type": "code",
   "execution_count": null,
   "metadata": {},
   "outputs": [],
   "source": []
  },
  {
   "cell_type": "code",
   "execution_count": null,
   "metadata": {},
   "outputs": [],
   "source": []
  },
  {
   "cell_type": "code",
   "execution_count": null,
   "metadata": {},
   "outputs": [],
   "source": []
  }
 ],
 "metadata": {
  "kernelspec": {
   "display_name": ".venv",
   "language": "python",
   "name": "python3"
  },
  "language_info": {
   "codemirror_mode": {
    "name": "ipython",
    "version": 3
   },
   "file_extension": ".py",
   "mimetype": "text/x-python",
   "name": "python",
   "nbconvert_exporter": "python",
   "pygments_lexer": "ipython3",
   "version": "3.9.8"
  },
  "orig_nbformat": 4
 },
 "nbformat": 4,
 "nbformat_minor": 2
}
