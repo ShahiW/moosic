{
 "cells": [
  {
   "cell_type": "markdown",
   "metadata": {},
   "source": [
    "# Moosic EDA :: Iteration v1\n",
    "\n"
   ]
  },
  {
   "cell_type": "markdown",
   "metadata": {},
   "source": [
    "## Importing required libraries\n",
    "\n",
    "* numpy\n",
    "* pandas\n",
    "* ??\n",
    "* scikit learn"
   ]
  },
  {
   "cell_type": "code",
   "execution_count": null,
   "metadata": {},
   "outputs": [],
   "source": [
    "# IMPORT LIBRARIES\n",
    "\n",
    "\n",
    "try:\n",
    "\n",
    "    import numpy as np\n",
    "    import pandas as pd\n",
    "\n",
    "    # visualisation\n",
    "    import seaborn as sns\n",
    "    import matplotlib.pyplot as plt\n",
    "    from sklearn.model_selection import train_test_split\n",
    "\n",
    "\n",
    "except ImportError as error:\n",
    "    print(f\"Installation of the required dependencies necessary! {error}\")\n",
    "\n",
    "    %pip install numpy\n",
    "    %pip install pandas\n",
    "    %pip install seaborn\n",
    "    %pip install matplotlib\n",
    "\n",
    "    print(f\"Successful installation of the required dependencies necessary\")\n",
    "\n",
    "\n",
    "    import warnings\n",
    "    warnings.filterwarnings('ignore')\n",
    "\n",
    "\n"
   ]
  },
  {
   "cell_type": "markdown",
   "metadata": {},
   "source": [
    "Import the Datasets"
   ]
  },
  {
   "cell_type": "code",
   "execution_count": null,
   "metadata": {},
   "outputs": [],
   "source": [
    "df_artists = pd.read_csv('../.data/NB_03_artists.csv', low_memory=False)\n",
    "df_tracks = pd.read_csv('../.data/NB_03_tracks.csv', low_memory=False)"
   ]
  },
  {
   "cell_type": "markdown",
   "metadata": {},
   "source": [
    "## Data Overview Artists\n",
    "\n",
    "| column | additional information |\n",
    "|--------|------------------------|\n",
    "| id | id of artist |\n",
    "| followers | number of followers | \n",
    "| genres | genres associated with artist |\n",
    "| name | name of artist |\n",
    "| popularity | popularity of artist in range 0 to 100 |"
   ]
  },
  {
   "cell_type": "markdown",
   "metadata": {},
   "source": [
    "## Data Overview Tracks\n",
    "\n",
    "| column | additional information |\n",
    "|--------|------------------------|\n",
    "| id | id of track |\n",
    "| name | name of track | \n",
    "| popularity | popularity of track in range 0 to 100 |\n",
    "| duration_ms | duration of songs in ms |\n",
    "| explicit | whether it contains explicit content or not |\n",
    "| artists | artists who created the track | \n",
    "| id_artists | id of artists who created the track |\n",
    "| release_date | date of release |\n",
    "| danceability | how danceable a song is in range 0 to 1 |\n",
    "| energy | how energized a song is in range 0 to 1 |\n",
    "| key | The key the track is in. Integers map to pitches using standard Pitch Class notation. E.g. 0 = C, 1 = C♯/D♭, 2 = D, and so on. If no key was detected, the value is -1 |\n",
    "| loudness | The overall loudness of a track in decibels (dB) |\n",
    "| mode |  Mode indicates the modality (major or minor) of a track, the type of scale from which its melodic content is derived. Major is represented by 1 and minor is 0 |\n",
    "| speechiness | Speechiness detects the presence of spoken words in a track. The more exclusively speech-like the recording (e.g. talk show, audio book, poetry), the closer to 1.0 the attribute value. Values above 0.66 describe tracks that are probably made entirely of spoken words. Values between 0.33 and 0.66 describe tracks that may contain both music and speech, either in sections or layered, including such cases as rap music. Values below 0.33 most likely represent music and other non-speech-like tracks |\n",
    "| acousticness | A confidence measure from 0.0 to 1.0 of whether the track is acoustic. 1.0 represents high confidence the track is acoustic |\n",
    "| instrumentalness | Predicts whether a track contains no vocals. \"Ooh\" and \"aah\" sounds are treated as instrumental in this context. Rap or spoken word tracks are clearly \"vocal\". The closer the instrumentalness value is to 1.0, the greater likelihood the track contains no vocal content |\n",
    "| liveness | Detects the presence of an audience in the recording. Higher liveness values represent an increased probability that the track was performed live. A value above 0.8 provides strong likelihood that the track is live |\n",
    "| valence | A measure from 0.0 to 1.0 describing the musical positiveness conveyed by a track. Tracks with high valence sound more positive (e.g. happy, cheerful, euphoric), while tracks with low valence sound more negative (e.g. sad, depressed, angry) |\n",
    "| tempo | The overall estimated tempo of a track in beats per minute (BPM). In musical terminology, tempo is the speed or pace of a given piece and derives directly from the average beat duration | \n",
    "| time_signature | An estimated time signature. The time signature (meter) is a notational convention to specify how many beats are in each bar (or measure). The time signature ranges from 3 to 7 indicating time signatures of 3/4, to 7/4. | "
   ]
  },
  {
   "cell_type": "code",
   "execution_count": null,
   "metadata": {},
   "outputs": [],
   "source": [
    "df_artists.columns"
   ]
  },
  {
   "cell_type": "code",
   "execution_count": null,
   "metadata": {},
   "outputs": [],
   "source": [
    "df_tracks.columns"
   ]
  },
  {
   "cell_type": "markdown",
   "metadata": {},
   "source": [
    "Get general information from df_artists:"
   ]
  },
  {
   "cell_type": "code",
   "execution_count": null,
   "metadata": {},
   "outputs": [],
   "source": [
    "df_artists.info()"
   ]
  },
  {
   "cell_type": "code",
   "execution_count": null,
   "metadata": {},
   "outputs": [],
   "source": [
    "df_artists.head()"
   ]
  },
  {
   "cell_type": "code",
   "execution_count": null,
   "metadata": {},
   "outputs": [],
   "source": [
    "df_artists.describe()"
   ]
  },
  {
   "cell_type": "markdown",
   "metadata": {},
   "source": [
    "Get general information from df_tracks:"
   ]
  },
  {
   "cell_type": "code",
   "execution_count": null,
   "metadata": {},
   "outputs": [],
   "source": [
    "df_tracks.info()"
   ]
  },
  {
   "cell_type": "code",
   "execution_count": null,
   "metadata": {},
   "outputs": [],
   "source": [
    "df_tracks.head()"
   ]
  },
  {
   "cell_type": "code",
   "execution_count": null,
   "metadata": {},
   "outputs": [],
   "source": [
    "df_tracks.describe()"
   ]
  },
  {
   "cell_type": "markdown",
   "metadata": {},
   "source": [
    "As we want all necessary information in a single dataset, we need to combine the genre and followers columns from the artists df with the tracks df.\n",
    "\n",
    "We can do this by using the artist's id's from both dataframes. But first we need to make sure all entries are in the same format. In the df_artists 'genre' and in df_tracks 'artists' and 'id_artists' entries seem to be in this format ['...']. "
   ]
  },
  {
   "cell_type": "code",
   "execution_count": null,
   "metadata": {},
   "outputs": [],
   "source": [
    "# Remove square brackets and quotes from the entire df_tracks\n",
    "df_tracks = df_tracks.applymap(lambda x: str(x).replace('[', '').replace(']', '').replace(\"'\", \"\"))"
   ]
  },
  {
   "cell_type": "code",
   "execution_count": null,
   "metadata": {},
   "outputs": [],
   "source": [
    "df_tracks.head().T"
   ]
  },
  {
   "cell_type": "code",
   "execution_count": null,
   "metadata": {},
   "outputs": [],
   "source": [
    "# Remove square brackets and quotes from the entire df_tracks\n",
    "df_artists = df_artists.applymap(lambda x: str(x).replace('[', '').replace(']', '').replace(\"'\", \"\"))"
   ]
  },
  {
   "cell_type": "code",
   "execution_count": null,
   "metadata": {},
   "outputs": [],
   "source": [
    "df_artists.head().T"
   ]
  },
  {
   "cell_type": "markdown",
   "metadata": {},
   "source": [
    "Now that all the entries should be in the same 'clean' format, we can merge the 2 sets by the artists id:"
   ]
  },
  {
   "cell_type": "code",
   "execution_count": null,
   "metadata": {},
   "outputs": [],
   "source": [
    "# Merge df_artists and df_tracks using 'id' from df_artists and 'id_artists' from df_tracks\n",
    "combined_df = df_tracks.merge(df_artists, left_on='id_artists', right_on='id', how='left')"
   ]
  },
  {
   "cell_type": "code",
   "execution_count": null,
   "metadata": {},
   "outputs": [],
   "source": [
    "combined_df.info()"
   ]
  },
  {
   "cell_type": "code",
   "execution_count": null,
   "metadata": {},
   "outputs": [],
   "source": [
    "combined_df.head().T"
   ]
  },
  {
   "cell_type": "markdown",
   "metadata": {},
   "source": [
    "Now let's check for null values and duplicates in the new combined_df"
   ]
  },
  {
   "cell_type": "code",
   "execution_count": null,
   "metadata": {},
   "outputs": [],
   "source": [
    "# Check for null values in the dataframe\n",
    "null_counts = combined_df.isnull().sum()\n",
    "\n",
    "# Check for duplicate rows in the dataframe\n",
    "duplicate_counts = combined_df.duplicated().sum()\n",
    "\n",
    "print(\"Null value counts:\")\n",
    "print(null_counts)\n",
    "\n",
    "print(\"\\nNumber of duplicate rows:\", duplicate_counts)"
   ]
  },
  {
   "cell_type": "markdown",
   "metadata": {},
   "source": [
    "There are many null values after our join, lets go more into detail with this:"
   ]
  },
  {
   "cell_type": "code",
   "execution_count": null,
   "metadata": {},
   "outputs": [],
   "source": [
    "# Print rows with null values in the columns from df_artists\n",
    "null_rows = combined_df[combined_df['id_y'].isnull()]\n",
    "print(\"Rows with null values in df_artists columns:\")\n",
    "null_rows.head().T"
   ]
  },
  {
   "cell_type": "markdown",
   "metadata": {},
   "source": [
    "We can throw them out, because there are no matching id's ..."
   ]
  },
  {
   "cell_type": "code",
   "execution_count": null,
   "metadata": {},
   "outputs": [],
   "source": [
    "combined_df_cleaned = combined_df.dropna()"
   ]
  },
  {
   "cell_type": "code",
   "execution_count": null,
   "metadata": {},
   "outputs": [],
   "source": [
    "combined_df_cleaned.info()"
   ]
  },
  {
   "cell_type": "code",
   "execution_count": null,
   "metadata": {},
   "outputs": [],
   "source": [
    "combined_df_cleaned.head().T"
   ]
  },
  {
   "cell_type": "markdown",
   "metadata": {},
   "source": [
    "We need to rename some collumns:"
   ]
  },
  {
   "cell_type": "code",
   "execution_count": null,
   "metadata": {},
   "outputs": [],
   "source": [
    "# Rename the columns\n",
    "combined_df_cleaned.rename(columns={\n",
    "    'id_x': 'track_id',\n",
    "    'id_artists': 'artists_id',\n",
    "    'name_x': 'track_name',\n",
    "    'artists': 'artist_name',\n",
    "    'popularity_x': 'artist_popularity',\n",
    "    'popularity_y': 'track_popularity'\n",
    "}, inplace=True)"
   ]
  },
  {
   "cell_type": "code",
   "execution_count": null,
   "metadata": {},
   "outputs": [],
   "source": [
    "combined_df_cleaned.head().T"
   ]
  },
  {
   "cell_type": "markdown",
   "metadata": {},
   "source": [
    "drop columns we don't need anymore:"
   ]
  },
  {
   "cell_type": "code",
   "execution_count": null,
   "metadata": {},
   "outputs": [],
   "source": [
    "df_cleaned_1 = combined_df_cleaned.drop(['name_y', 'id_y'], axis=1)"
   ]
  },
  {
   "cell_type": "code",
   "execution_count": null,
   "metadata": {},
   "outputs": [],
   "source": [
    "df_cleaned_1.info()"
   ]
  },
  {
   "cell_type": "code",
   "execution_count": null,
   "metadata": {},
   "outputs": [],
   "source": [
    "df_cleaned_1.columns"
   ]
  },
  {
   "cell_type": "markdown",
   "metadata": {},
   "source": [
    "Rearrange the order of columns"
   ]
  },
  {
   "cell_type": "code",
   "execution_count": null,
   "metadata": {},
   "outputs": [],
   "source": [
    "# Define the desired column order\n",
    "desired_column_order = ['artists_id', 'track_id', 'artist_name', 'track_name', 'genres', 'release_date', 'explicit', 'duration_ms',\n",
    "                        'danceability', 'energy', 'key', 'loudness', 'mode', 'speechiness', 'acousticness',\n",
    "                        'instrumentalness', 'liveness', 'valence', 'tempo', 'time_signature', 'followers',\n",
    "                        'artist_popularity', 'track_popularity']\n",
    "\n",
    "# Rearrange the columns\n",
    "df_reordered = df_cleaned_1[desired_column_order]"
   ]
  },
  {
   "cell_type": "code",
   "execution_count": null,
   "metadata": {},
   "outputs": [],
   "source": [
    "df_reordered.head().T"
   ]
  },
  {
   "cell_type": "markdown",
   "metadata": {},
   "source": [
    "Now we want to make sure, the most popular artists are still presented in our dataset after the cleaning process:\n",
    "Therefor we can compare our Dataset with the artist from the \"Most Streamed Artist Table\" "
   ]
  },
  {
   "cell_type": "code",
   "execution_count": null,
   "metadata": {},
   "outputs": [],
   "source": [
    "# Read the HTML table with the Spotify most streamed artists of all time\n",
    "url = 'https://kworb.net/spotify/artists.html'\n",
    "df_ms_artists = pd.read_html(url)[0]"
   ]
  },
  {
   "cell_type": "code",
   "execution_count": null,
   "metadata": {},
   "outputs": [],
   "source": [
    "df_ms_artists.head().T"
   ]
  },
  {
   "cell_type": "markdown",
   "metadata": {},
   "source": [
    "We have to compare: How many Artist are in this Table"
   ]
  },
  {
   "cell_type": "code",
   "execution_count": null,
   "metadata": {},
   "outputs": [],
   "source": [
    "# Get the unique artists from df_ms_artists\n",
    "ms_unique_artists = df_ms_artists['Artist'].unique()\n",
    "\n",
    "# Count how many of these unique artists are in combined_df_final\n",
    "matching_artist_count = df_reordered['artist_name'].isin(ms_unique_artists).sum()\n",
    "\n",
    "print(\"Number of artists from df_ms_artists in combined_df_final:\", matching_artist_count)"
   ]
  },
  {
   "cell_type": "markdown",
   "metadata": {},
   "source": [
    "Seems that there are enough similarities to go on with our dataset."
   ]
  },
  {
   "cell_type": "code",
   "execution_count": null,
   "metadata": {},
   "outputs": [],
   "source": [
    "# df_reordered\n",
    "# Find the most presented artists\n",
    "most_presented_artists = df_reordered['artist_name'].value_counts()\n",
    "\n",
    "# Find the most presented genres\n",
    "most_presented_genres = df_reordered['genres'].value_counts()\n",
    "\n",
    "print(\"Most presented artists:\")\n",
    "print(most_presented_artists)\n",
    "\n",
    "print(\"\\nMost presented genres:\")\n",
    "print(most_presented_genres)"
   ]
  },
  {
   "cell_type": "markdown",
   "metadata": {},
   "source": [
    "There are a lot of 'Hörspiele' in our Dataset, lets try to remove them and see how many data is lost due to this."
   ]
  },
  {
   "cell_type": "code",
   "execution_count": null,
   "metadata": {},
   "outputs": [],
   "source": [
    "df_reordered.info()"
   ]
  },
  {
   "cell_type": "code",
   "execution_count": null,
   "metadata": {},
   "outputs": [],
   "source": [
    "# Create a boolean mask for rows with 'hoerspiel' in the 'genres' column\n",
    "mask = df_reordered['genres'].str.contains('hoerspiel', case=False)\n",
    "\n",
    "# Filter the dataframe to exclude rows with 'hoerspiel' in the 'genres' column\n",
    "df_filtered = df_reordered[~mask]"
   ]
  },
  {
   "cell_type": "code",
   "execution_count": null,
   "metadata": {},
   "outputs": [],
   "source": [
    "df_filtered.info()"
   ]
  },
  {
   "cell_type": "markdown",
   "metadata": {},
   "source": [
    "Are there any other genres like podcast which we don't need in our Dataset? "
   ]
  },
  {
   "cell_type": "code",
   "execution_count": null,
   "metadata": {},
   "outputs": [],
   "source": [
    "column_values = df_filtered['genres']\n",
    "\n",
    "unique_values = column_values.unique()\n",
    "\n",
    "for value in unique_values:\n",
    "    print(value)\n"
   ]
  },
  {
   "cell_type": "code",
   "execution_count": null,
   "metadata": {},
   "outputs": [],
   "source": [
    "unique_genre_count = df_filtered['genres'].nunique()\n",
    "\n",
    "print(\"Number of unique genres:\", unique_genre_count)"
   ]
  },
  {
   "cell_type": "markdown",
   "metadata": {},
   "source": [
    "Search for Podcasts"
   ]
  },
  {
   "cell_type": "code",
   "execution_count": null,
   "metadata": {},
   "outputs": [],
   "source": [
    "filtered_data = df_filtered[df_filtered['genres'].str.contains(r'podcast|podcasts', case=False)]\n",
    "\n",
    "print(filtered_data)"
   ]
  },
  {
   "cell_type": "markdown",
   "metadata": {},
   "source": [
    "## Main Music Genres\n",
    "\n",
    "* Jazz\n",
    "* Country\n",
    "* Pop\n",
    "* Reggae\n",
    "* Electronic\n",
    "* Indie Rock\n",
    "* Gospel\n",
    "* House\n",
    "* Hip Hop\n",
    "* Classical Music\n",
    "* R&B\n",
    "* Punk Rock\n",
    "* Folk Music\n",
    "* Techno\n",
    "* Disco\n",
    "* EDM\n",
    "* Rock\n",
    "* Blues\n",
    "* Metal\n",
    "* Soul \n",
    "* Funk\n",
    "* Alternative\n",
    "* Dubstep\n",
    "* World Music\n",
    "\n",
    "Try:\n",
    "\n",
    "To categorize our sub genres we want to look at the list of genres from artists\n",
    "\n",
    "search by keyword and append to genre lists\n",
    "order by appearing &rarr; special genres don't appear as often as other more known genre. "
   ]
  },
  {
   "cell_type": "code",
   "execution_count": null,
   "metadata": {},
   "outputs": [],
   "source": [
    "import re\n",
    "\n",
    "sub_genres = {}\n",
    "\n",
    "main_genres = ['Jazz', 'Country', 'Pop', 'Reggae', 'Electronic', 'Indie Rock', 'Gospel', \n",
    "                'House', 'Hip Hop', 'Classical', 'R&B', 'Punk Rock', 'Folk', 'Techno', 'Disco', 'EDM', 'Rock',\n",
    "                'Blues', 'Metal', 'Soul', 'Funk', 'Alternative', 'Dubstep', 'World Music', 'Rockabilly', 'Other']\n",
    "\n",
    "other_genres = set()\n",
    "main_genres_col = []\n",
    "\n",
    "# dict with main genres and sets for sub genres\n",
    "for genre in main_genres:\n",
    "    sub_genres[genre.lower()] = set()\n",
    "\n",
    "for genre_text in df_filtered['genres'].values.tolist():\n",
    "    main_genres_cell = []\n",
    "    genres = genre_text.strip().split(',')\n",
    "    for genre in genres:\n",
    "        genre = genre.strip()\n",
    "        if not genre:\n",
    "            continue\n",
    "        actual_genres = []\n",
    "        for main_genre in sub_genres:\n",
    "            if main_genre == 'other':\n",
    "                continue\n",
    "            try:\n",
    "                index = genre.index(main_genre) # index and length to decide on genre: indie rock should go into indie rock and not rock\n",
    "            except ValueError:\n",
    "                continue\n",
    "            end = index + len(main_genre)\n",
    "            length = len(main_genre)\n",
    "            m = main_genre\n",
    "            if main_genre in ('pop', 'rock') and  genre.endswith(main_genre):\n",
    "                m = main_genre\n",
    "            elif main_genre == 'metal' and 'metalcore' in genre:\n",
    "                m = 'metal'\n",
    "            elif (index and 'a'<= genre[index - 1] <= 'z') or (end < len(genre) and 'a' <= genre[end] <= 'z'):\n",
    "                other_genres.add(genre)\n",
    "                m = 'other'\n",
    "                length = 0\n",
    "            else:\n",
    "                m = main_genre\n",
    "\n",
    "            actual_genres.append([end, length, m])\n",
    "\n",
    "        if actual_genres:\n",
    "            actual_genre = sorted(actual_genres)[-1][2]\n",
    "            sub_genres[actual_genre].add(genre)\n",
    "            main_genres_cell.append(actual_genre)\n",
    "    main_genres_col.append(list(set(main_genres_cell)))  # make main_genre unique i.e.: ['jazz', 'jazz', 'jazz'] shouldn't make it into zhe cell \n",
    "\n",
    "\n",
    "df_with_main_genres = df_filtered.copy(deep=True)\n",
    "# make new column from list\n",
    "df_with_main_genres['main_genres'] = main_genres_col\n",
    "\n",
    "\n",
    "#for m, s in sub_genres.items():\n",
    "#    print(m, s)"
   ]
  },
  {
   "cell_type": "code",
   "execution_count": null,
   "metadata": {},
   "outputs": [],
   "source": [
    "\n",
    "for i, m in enumerate(main_genres_col):\n",
    "    if m: \n",
    "        print(i, m)\n"
   ]
  },
  {
   "cell_type": "code",
   "execution_count": null,
   "metadata": {},
   "outputs": [],
   "source": [
    "df_with_main_genres.loc[169]"
   ]
  }
 ],
 "metadata": {
  "kernelspec": {
   "display_name": "Python 3",
   "language": "python",
   "name": "python3"
  },
  "language_info": {
   "codemirror_mode": {
    "name": "ipython",
    "version": 3
   },
   "file_extension": ".py",
   "mimetype": "text/x-python",
   "name": "python",
   "nbconvert_exporter": "python",
   "pygments_lexer": "ipython3",
   "version": "3.11.3"
  },
  "orig_nbformat": 4
 },
 "nbformat": 4,
 "nbformat_minor": 2
}
