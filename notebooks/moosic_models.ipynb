{
 "cells": [
  {
   "cell_type": "markdown",
   "metadata": {},
   "source": [
    "# Mood - Music Recommendation Moodels"
   ]
  },
  {
   "cell_type": "markdown",
   "metadata": {},
   "source": [
    "\n",
    "## content based recommender system\n",
    "\n",
    "* suggests data (music) based on user's interests? or users mood?\n",
    "* insights and filter based on feature variables from our data\n",
    "* metric: cosine similarity to measure the similarity of tracks/genres etc\n",
    "\n"
   ]
  },
  {
   "cell_type": "markdown",
   "metadata": {},
   "source": [
    "## Importing required libraries\n",
    "\n"
   ]
  },
  {
   "cell_type": "code",
   "execution_count": null,
   "metadata": {},
   "outputs": [],
   "source": [
    "# IMPORT LIBRARIES\n",
    "\n",
    "\n",
    "try:\n",
    "\n",
    "    import numpy as np\n",
    "    import pandas as pd\n",
    "    import random as rnd\n",
    "    #from tqdm.notebook import tqdm as tqdm\n",
    "    from tqdm import tqdm \n",
    "    #from .autonotebook import tqdm as notebook_tqdm\n",
    "\n",
    "    # databases - sql\n",
    "    #from dotenv import dotenv_values\n",
    "    #import sqlalchemy\n",
    "\n",
    "    # visualisation\n",
    "    import seaborn as sns\n",
    "    import matplotlib.pyplot as plt\n",
    "\n",
    "    # split data - avoid data leakage\n",
    "    from sklearn.model_selection import train_test_split\n",
    "\n",
    "    # preprocessing, scaling\n",
    "    from sklearn.preprocessing import StandardScaler\n",
    "    from sklearn.preprocessing import MinMaxScaler\n",
    "\n",
    "    # modelling\n",
    "    from sklearn.cluster import KMeans\n",
    "\n",
    "    # cross validation, hyperparameter tuning\n",
    "    #from surprise.model_selection import GridSearchCV\n",
    "    from sklearn.model_selection import GridSearchCV\n",
    "\n",
    "    # metrics\n",
    "    from sklearn.metrics import euclidean_distances\n",
    "    from sklearn.metrics.pairwise import sigmoid_kernel\n",
    "    from sklearn.metrics.pairwise import cosine_similarity\n",
    "\n",
    "    # high dimensional usage - dimensionality reduction\n",
    "    from sklearn.manifold import TSNE\n",
    "    from sklearn.decomposition import PCA\n",
    "\n",
    "    # text converter/vectorizer\n",
    "    from sentence_transformers import SentenceTransformer\n",
    "    from sklearn.feature_extraction.text import CountVectorizer\n",
    "\n",
    "    # pipeline\n",
    "    from sklearn.pipeline import Pipeline\n",
    "\n",
    "\n",
    "\n",
    "except ImportError as error:\n",
    "    print(f\"Installation of the required dependencies necessary! {error}\")\n",
    "\n",
    "    %pip install numpy\n",
    "    %pip install pandas\n",
    "    #%pip install dotenv\n",
    "    #%pip install sqlalchemy\n",
    "    %pip install seaborn\n",
    "    %pip install matplotlib\n",
    "    %pip install scikit-learn\n",
    "    %pip install tqdm\n",
    "    %pip install ipywidgets\n",
    "    %pip install scikit-surprise\n",
    "    %pip install sentence-transformers\n",
    "\n",
    "    print(f\"Successful installation of the required dependencies necessary\")\n",
    "\n",
    "\n",
    "import warnings\n",
    "warnings.filterwarnings('ignore')\n",
    "\n"
   ]
  },
  {
   "cell_type": "markdown",
   "metadata": {},
   "source": [
    "# MODELS SKETCH AND IMPLEMENTATION\n",
    "\n",
    "------------------------------------\n",
    "\n"
   ]
  },
  {
   "cell_type": "markdown",
   "metadata": {},
   "source": [
    "## Context based mood to music recommendation system v1 \n",
    "\n",
    "- [x] use of affect model (s) for mapping mood labels to proposed valence - energy values in our data\n",
    "- [ ] Enhance to accept mood choices : the users current mood and preferred mood of the expected playlist to be recommended.\n",
    "- [ ] use of minibatch kmeans for clustering based on mapped mood classes, \n",
    "- [ ] tsne for dimension reduction visuals\n",
    "- [ ] reinforcement learning for the music-mood recsys\n",
    "- [ ] offline evaluation metrics drafts and test\n",
    "- [ ] experiment tracking with MLFlow\n",
    "- [ ] model deployment \n",
    "- [ ] "
   ]
  },
  {
   "cell_type": "markdown",
   "metadata": {},
   "source": [
    "---\n",
    "\n",
    "## Use of affect model (s) for mapping mood labels to proposed valence - energy values in our data\n"
   ]
  },
  {
   "cell_type": "markdown",
   "metadata": {},
   "source": [
    "---\n",
    "---\n",
    "\n",
    "Proposed Valence - Energy values mapped to mood labels based on the russell-thayer 2 dimensional model of affect (circumplex model).\n",
    "\n",
    "| Mood labels       | Valence values | Energy values |\n",
    "|------------------|-----------------|---------------|\n",
    "| Happy            | 0.9             | 0.7           |\n",
    "| Joyful           | 0.8             | 0.8           |\n",
    "| Energetic        | 0.7             | 0.9           |\n",
    "| Excited          | 0.7             | 1.0           |\n",
    "| Calm             | 0.8             | 0.3           |\n",
    "| Peaceful         | 0.7             | 0.4           |\n",
    "| Relaxed          | 0.6             | 0.3           |\n",
    "| Content          | 0.7             | 0.5           |\n",
    "| Sad              | 0.1             | 0.4           |\n",
    "| Melancholic      | 0.2             | 0.3           |\n",
    "| Gloomy           | 0.1             | 0.4           |\n",
    "| Angry            | 0.2             | 0.8           |\n",
    "| Agitated         | 0.3             | 0.9           |\n",
    "| Tense            | 0.3             | 0.7           |\n",
    "| Anxious          | 0.2             | 0.9           |\n",
    "| Fearful          | 0.1             | 0.8           |\n",
    "\n",
    "\n",
    "---\n",
    "with the 2-D Circumplex model ; The adapted russell model of affect based on mood and arousal \n",
    "\n",
    "![2-D Circumplex model : The adapted russell model of affect based on mood and arousal](../images/Russells-circumplex-model-adapted.png)\n",
    "\n",
    "\n",
    "\n",
    "where :\n",
    "\n",
    "- valence = radius x cosine (theta in radians)\n",
    "- arousal (energy) = radius x sine (theta in radians)\n",
    "\n",
    "\n",
    "\n",
    "---\n",
    "References\n",
    "\n",
    "* [Circumplex models - emotional classification](https://en.wikipedia.org/wiki/Emotion_classification#Circumplex_model)\n",
    "* [A multi-genre model for music emotion recognition using linear regressors](https://www.tandfonline.com/doi/epdf/10.1080/09298215.2021.1977336?needAccess=true&role=button)\n",
    "* [Emotionally-Relevant Features for Classification and Regression of Music Lyrics](https://www.researchgate.net/publication/306006106_Emotionally-Relevant_Features_for_Classification_and_Regression_of_Music_Lyrics)\n",
    "\n",
    "* [A Novel Emotion-Aware Hybrid Music Recommendation Method Using Deep Neural Network](https://pdfs.semanticscholar.org/ebe3/457cd5bc9dc30b5a6344d560ef07f0526c31.pdf?_gl=1*1dj28ia*_ga*MTk4OTA5NzI4OS4xNjkzMDc3NTk3*_ga_H7P4ZT52H5*MTY5MzEzNTM4Ni4yLjEuMTY5MzEzNjQ2OC4yOC4wLjA.)\n",
    "* [MUSAV: A DATASET OF RELATIVE AROUSAL-VALENCE ANNOTATIONS FOR VALIDATION OF AUDIO MODELS](https://repositori.upf.edu/bitstream/handle/10230/56442/Serra_Pro_Musa.pdf?sequence=1)\n",
    "\n"
   ]
  },
  {
   "cell_type": "code",
   "execution_count": null,
   "metadata": {},
   "outputs": [],
   "source": []
  },
  {
   "cell_type": "code",
   "execution_count": null,
   "metadata": {},
   "outputs": [],
   "source": []
  },
  {
   "cell_type": "code",
   "execution_count": null,
   "metadata": {},
   "outputs": [],
   "source": []
  },
  {
   "cell_type": "code",
   "execution_count": null,
   "metadata": {},
   "outputs": [],
   "source": []
  },
  {
   "cell_type": "code",
   "execution_count": null,
   "metadata": {},
   "outputs": [],
   "source": []
  },
  {
   "cell_type": "code",
   "execution_count": null,
   "metadata": {},
   "outputs": [],
   "source": []
  },
  {
   "cell_type": "code",
   "execution_count": null,
   "metadata": {},
   "outputs": [],
   "source": []
  }
 ],
 "metadata": {
  "kernelspec": {
   "display_name": "Python 3",
   "language": "python",
   "name": "python3"
  },
  "language_info": {
   "codemirror_mode": {
    "name": "ipython",
    "version": 3
   },
   "file_extension": ".py",
   "mimetype": "text/x-python",
   "name": "python",
   "nbconvert_exporter": "python",
   "pygments_lexer": "ipython3",
   "version": "3.11.3"
  },
  "orig_nbformat": 4
 },
 "nbformat": 4,
 "nbformat_minor": 2
}
