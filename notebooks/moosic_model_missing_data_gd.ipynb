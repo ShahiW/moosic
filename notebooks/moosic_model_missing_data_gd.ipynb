{
 "cells": [
  {
   "cell_type": "code",
   "execution_count": 2,
   "metadata": {},
   "outputs": [],
   "source": [
    "import pandas as pd\n",
    "from sklearn.model_selection import train_test_split\n",
    "from sklearn.preprocessing import LabelEncoder\n",
    "from sklearn.ensemble import HistGradientBoostingClassifier\n",
    "from sklearn.metrics import classification_report\n",
    "from imblearn.over_sampling import RandomOverSampler"
   ]
  },
  {
   "cell_type": "code",
   "execution_count": 3,
   "metadata": {},
   "outputs": [],
   "source": [
    "# Load the dataset\n",
    "data = pd.read_csv('../.data/missing_values.csv')"
   ]
  },
  {
   "cell_type": "code",
   "execution_count": 4,
   "metadata": {},
   "outputs": [
    {
     "ename": "KeyboardInterrupt",
     "evalue": "",
     "output_type": "error",
     "traceback": [
      "\u001b[0;31m---------------------------------------------------------------------------\u001b[0m",
      "\u001b[0;31mKeyboardInterrupt\u001b[0m                         Traceback (most recent call last)",
      "Cell \u001b[0;32mIn[4], line 18\u001b[0m\n\u001b[1;32m     16\u001b[0m \u001b[39m# Oversample the training data to balance the class distribution\u001b[39;00m\n\u001b[1;32m     17\u001b[0m oversampler \u001b[39m=\u001b[39m RandomOverSampler(random_state\u001b[39m=\u001b[39m\u001b[39m42\u001b[39m)\n\u001b[0;32m---> 18\u001b[0m X_train_resampled, y_train_resampled \u001b[39m=\u001b[39m oversampler\u001b[39m.\u001b[39;49mfit_resample(X_train, y_train)\n\u001b[1;32m     20\u001b[0m \u001b[39m# Train a HistGradientBoostingClassifier\u001b[39;00m\n\u001b[1;32m     21\u001b[0m clf \u001b[39m=\u001b[39m HistGradientBoostingClassifier(random_state\u001b[39m=\u001b[39m\u001b[39m42\u001b[39m)\n",
      "File \u001b[0;32m~/neuefische/DP-project-formation/.venv/lib/python3.9/site-packages/imblearn/base.py:208\u001b[0m, in \u001b[0;36mBaseSampler.fit_resample\u001b[0;34m(self, X, y)\u001b[0m\n\u001b[1;32m    187\u001b[0m \u001b[39m\u001b[39m\u001b[39m\"\"\"Resample the dataset.\u001b[39;00m\n\u001b[1;32m    188\u001b[0m \n\u001b[1;32m    189\u001b[0m \u001b[39mParameters\u001b[39;00m\n\u001b[0;32m   (...)\u001b[0m\n\u001b[1;32m    205\u001b[0m \u001b[39m    The corresponding label of `X_resampled`.\u001b[39;00m\n\u001b[1;32m    206\u001b[0m \u001b[39m\"\"\"\u001b[39;00m\n\u001b[1;32m    207\u001b[0m \u001b[39mself\u001b[39m\u001b[39m.\u001b[39m_validate_params()\n\u001b[0;32m--> 208\u001b[0m \u001b[39mreturn\u001b[39;00m \u001b[39msuper\u001b[39;49m()\u001b[39m.\u001b[39;49mfit_resample(X, y)\n",
      "File \u001b[0;32m~/neuefische/DP-project-formation/.venv/lib/python3.9/site-packages/imblearn/base.py:112\u001b[0m, in \u001b[0;36mSamplerMixin.fit_resample\u001b[0;34m(self, X, y)\u001b[0m\n\u001b[1;32m    106\u001b[0m X, y, binarize_y \u001b[39m=\u001b[39m \u001b[39mself\u001b[39m\u001b[39m.\u001b[39m_check_X_y(X, y)\n\u001b[1;32m    108\u001b[0m \u001b[39mself\u001b[39m\u001b[39m.\u001b[39msampling_strategy_ \u001b[39m=\u001b[39m check_sampling_strategy(\n\u001b[1;32m    109\u001b[0m     \u001b[39mself\u001b[39m\u001b[39m.\u001b[39msampling_strategy, y, \u001b[39mself\u001b[39m\u001b[39m.\u001b[39m_sampling_type\n\u001b[1;32m    110\u001b[0m )\n\u001b[0;32m--> 112\u001b[0m output \u001b[39m=\u001b[39m \u001b[39mself\u001b[39;49m\u001b[39m.\u001b[39;49m_fit_resample(X, y)\n\u001b[1;32m    114\u001b[0m y_ \u001b[39m=\u001b[39m (\n\u001b[1;32m    115\u001b[0m     label_binarize(output[\u001b[39m1\u001b[39m], classes\u001b[39m=\u001b[39mnp\u001b[39m.\u001b[39munique(y)) \u001b[39mif\u001b[39;00m binarize_y \u001b[39melse\u001b[39;00m output[\u001b[39m1\u001b[39m]\n\u001b[1;32m    116\u001b[0m )\n\u001b[1;32m    118\u001b[0m X_, y_ \u001b[39m=\u001b[39m arrays_transformer\u001b[39m.\u001b[39mtransform(output[\u001b[39m0\u001b[39m], y_)\n",
      "File \u001b[0;32m~/neuefische/DP-project-formation/.venv/lib/python3.9/site-packages/imblearn/over_sampling/_random_over_sampler.py:213\u001b[0m, in \u001b[0;36mRandomOverSampler._fit_resample\u001b[0;34m(self, X, y)\u001b[0m\n\u001b[1;32m    207\u001b[0m target_class_indices \u001b[39m=\u001b[39m np\u001b[39m.\u001b[39mflatnonzero(y \u001b[39m==\u001b[39m class_sample)\n\u001b[1;32m    208\u001b[0m bootstrap_indices \u001b[39m=\u001b[39m random_state\u001b[39m.\u001b[39mchoice(\n\u001b[1;32m    209\u001b[0m     target_class_indices,\n\u001b[1;32m    210\u001b[0m     size\u001b[39m=\u001b[39mnum_samples,\n\u001b[1;32m    211\u001b[0m     replace\u001b[39m=\u001b[39m\u001b[39mTrue\u001b[39;00m,\n\u001b[1;32m    212\u001b[0m )\n\u001b[0;32m--> 213\u001b[0m sample_indices \u001b[39m=\u001b[39m np\u001b[39m.\u001b[39;49mappend(sample_indices, bootstrap_indices)\n\u001b[1;32m    214\u001b[0m \u001b[39mif\u001b[39;00m \u001b[39mself\u001b[39m\u001b[39m.\u001b[39mshrinkage_ \u001b[39mis\u001b[39;00m \u001b[39mnot\u001b[39;00m \u001b[39mNone\u001b[39;00m:\n\u001b[1;32m    215\u001b[0m     \u001b[39m# generate a smoothed bootstrap with a perturbation\u001b[39;00m\n\u001b[1;32m    216\u001b[0m     n_samples, n_features \u001b[39m=\u001b[39m X\u001b[39m.\u001b[39mshape\n",
      "File \u001b[0;32m<__array_function__ internals>:200\u001b[0m, in \u001b[0;36mappend\u001b[0;34m(*args, **kwargs)\u001b[0m\n",
      "File \u001b[0;32m~/neuefische/DP-project-formation/.venv/lib/python3.9/site-packages/numpy/lib/function_base.py:5499\u001b[0m, in \u001b[0;36mappend\u001b[0;34m(arr, values, axis)\u001b[0m\n\u001b[1;32m   5497\u001b[0m     values \u001b[39m=\u001b[39m ravel(values)\n\u001b[1;32m   5498\u001b[0m     axis \u001b[39m=\u001b[39m arr\u001b[39m.\u001b[39mndim\u001b[39m-\u001b[39m\u001b[39m1\u001b[39m\n\u001b[0;32m-> 5499\u001b[0m \u001b[39mreturn\u001b[39;00m concatenate((arr, values), axis\u001b[39m=\u001b[39;49maxis)\n",
      "File \u001b[0;32m<__array_function__ internals>:200\u001b[0m, in \u001b[0;36mconcatenate\u001b[0;34m(*args, **kwargs)\u001b[0m\n",
      "\u001b[0;31mKeyboardInterrupt\u001b[0m: "
     ]
    },
    {
     "ename": "",
     "evalue": "",
     "output_type": "error",
     "traceback": [
      "\u001b[1;31mThe Kernel crashed while executing code in the the current cell or a previous cell. Please review the code in the cell(s) to identify a possible cause of the failure. Click <a href='https://aka.ms/vscodeJupyterKernelCrash'>here</a> for more info. View Jupyter <a href='command:jupyter.viewOutput'>log</a> for further details."
     ]
    }
   ],
   "source": [
    "# Convert features to numeric type\n",
    "numerical_features = data.drop(['artists_id', 'track_id', 'artist_name', 'track_name', 'release_date', 'genres'], axis=1)\n",
    "numerical_features = numerical_features.apply(pd.to_numeric, errors='coerce')\n",
    "\n",
    "# Encode the genre labels\n",
    "label_encoder = LabelEncoder()\n",
    "encoded_genres = label_encoder.fit_transform(data['genres'])\n",
    "\n",
    "# Split the dataset into one with missing genre data and one without\n",
    "data_missing = data[data['genres'].isnull()]\n",
    "data_complete = data[~data['genres'].isnull()]\n",
    "\n",
    "# Split the complete dataset into training and testing sets\n",
    "X_train, X_test, y_train, y_test = train_test_split(numerical_features, encoded_genres, test_size=0.2, random_state=42)\n",
    "\n",
    "# Oversample the training data to balance the class distribution\n",
    "oversampler = RandomOverSampler(random_state=42)\n",
    "X_train_resampled, y_train_resampled = oversampler.fit_resample(X_train, y_train)\n",
    "\n",
    "# Train a HistGradientBoostingClassifier\n",
    "clf = HistGradientBoostingClassifier(random_state=42)\n",
    "clf.fit(X_train_resampled, y_train_resampled)\n",
    "\n",
    "# Predict genres for songs with missing genres\n",
    "empty_genre_indices = data_missing.index\n",
    "empty_genre_features = numerical_features.loc[empty_genre_indices]\n",
    "predictions = clf.predict(empty_genre_features)\n",
    "\n",
    "# Decode predicted labels back to genre names\n",
    "predicted_genres = label_encoder.inverse_transform(predictions)\n",
    "\n",
    "# Fill in the missing genre columns with predicted genres\n",
    "data.loc[empty_genre_indices, 'genres'] = predicted_genres\n",
    "\n",
    "# Evaluate the model\n",
    "y_pred = clf.predict(X_test)\n",
    "print(classification_report(y_test, y_pred, target_names=label_encoder.classes_))"
   ]
  }
 ],
 "metadata": {
  "kernelspec": {
   "display_name": ".venv",
   "language": "python",
   "name": "python3"
  },
  "language_info": {
   "codemirror_mode": {
    "name": "ipython",
    "version": 3
   },
   "file_extension": ".py",
   "mimetype": "text/x-python",
   "name": "python",
   "nbconvert_exporter": "python",
   "pygments_lexer": "ipython3",
   "version": "3.9.8"
  },
  "orig_nbformat": 4
 },
 "nbformat": 4,
 "nbformat_minor": 2
}
